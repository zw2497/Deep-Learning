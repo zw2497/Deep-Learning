{
  "nbformat": 4,
  "nbformat_minor": 0,
  "metadata": {
    "colab": {
      "name": "hw1_pretty.ipynb",
      "version": "0.3.2",
      "provenance": [],
      "collapsed_sections": [
        "bbRCAYuEo7VU",
        "ruX_psZo0F--"
      ],
      "toc_visible": true,
      "include_colab_link": true
    },
    "kernelspec": {
      "name": "python3",
      "display_name": "Python 3"
    },
    "accelerator": "GPU"
  },
  "cells": [
    {
      "cell_type": "markdown",
      "metadata": {
        "id": "view-in-github",
        "colab_type": "text"
      },
      "source": [
        "<a href=\"https://colab.research.google.com/github/zw2497/Deep-Learning/blob/master/hw1_pretty.ipynb\" target=\"_parent\"><img src=\"https://colab.research.google.com/assets/colab-badge.svg\" alt=\"Open In Colab\"/></a>"
      ]
    },
    {
      "metadata": {
        "id": "2U0yGQbaCuhE",
        "colab_type": "text"
      },
      "cell_type": "markdown",
      "source": [
        "## Import framework"
      ]
    },
    {
      "metadata": {
        "id": "eHJCf-HXNl4P",
        "colab_type": "code",
        "outputId": "fc33b7fc-c8e6-4968-d606-8594bd7eab80",
        "colab": {
          "base_uri": "https://localhost:8080/",
          "height": 34
        }
      },
      "cell_type": "code",
      "source": [
        "import tensorflow as tf\n",
        "from tensorflow import keras\n",
        "\n",
        "import numpy as np\n",
        "import matplotlib.pyplot as plt\n",
        "\n",
        "print(tf.__version__)"
      ],
      "execution_count": 56,
      "outputs": [
        {
          "output_type": "stream",
          "text": [
            "2.0.0-dev20190208\n"
          ],
          "name": "stdout"
        }
      ]
    },
    {
      "metadata": {
        "id": "JSLKiOhw7dYE",
        "colab_type": "code",
        "colab": {}
      },
      "cell_type": "code",
      "source": [
        "from tensorflow.keras import Model"
      ],
      "execution_count": 0,
      "outputs": []
    },
    {
      "metadata": {
        "id": "r8J6ChscP1Vo",
        "colab_type": "text"
      },
      "cell_type": "markdown",
      "source": [
        "## Load Data"
      ]
    },
    {
      "metadata": {
        "id": "8lj7BNNYN0qk",
        "colab_type": "code",
        "colab": {}
      },
      "cell_type": "code",
      "source": [
        "fashion_mnist = keras.datasets.fashion_mnist\n",
        "(train_images, train_labels), (test_images, test_labels) = fashion_mnist.load_data()"
      ],
      "execution_count": 0,
      "outputs": []
    },
    {
      "metadata": {
        "id": "4bD_X_B2DM5-",
        "colab_type": "text"
      },
      "cell_type": "markdown",
      "source": [
        "## Normalize"
      ]
    },
    {
      "metadata": {
        "id": "jGOtPpHXDVom",
        "colab_type": "code",
        "colab": {}
      },
      "cell_type": "code",
      "source": [
        "train_images = train_images / 255.0\n",
        "test_images = test_images / 255.0"
      ],
      "execution_count": 0,
      "outputs": []
    },
    {
      "metadata": {
        "id": "AitUhC-ZOBkZ",
        "colab_type": "text"
      },
      "cell_type": "markdown",
      "source": [
        "# Part 1:\n",
        "### 1. Implement and train a linear model to classify this dataset. Evaluate it by producing a plot that compares the training and validation accuracy. Include this plot with your submission."
      ]
    },
    {
      "metadata": {
        "id": "ThJi8MYmp3gf",
        "colab_type": "text"
      },
      "cell_type": "markdown",
      "source": [
        "#### 1.1 Build linear model"
      ]
    },
    {
      "metadata": {
        "id": "nWhjUpdJF2Hm",
        "colab_type": "code",
        "colab": {}
      },
      "cell_type": "code",
      "source": [
        "model = keras.Sequential([\n",
        "    keras.layers.Flatten(input_shape=(28, 28)),\n",
        "    keras.layers.Dense(10, activation=tf.nn.softmax)\n",
        "])"
      ],
      "execution_count": 0,
      "outputs": []
    },
    {
      "metadata": {
        "id": "rJCj4k3vF_P2",
        "colab_type": "code",
        "colab": {}
      },
      "cell_type": "code",
      "source": [
        "model.compile(optimizer='adam', loss='sparse_categorical_crossentropy', metrics=['accuracy'])"
      ],
      "execution_count": 0,
      "outputs": []
    },
    {
      "metadata": {
        "id": "tH8pWAUXJ_wO",
        "colab_type": "code",
        "outputId": "da728208-b22c-4416-e1dc-2e60ca975dd2",
        "colab": {
          "base_uri": "https://localhost:8080/",
          "height": 374
        }
      },
      "cell_type": "code",
      "source": [
        "history = model.fit(train_images, train_labels,validation_data=(test_images, test_labels), epochs=10)"
      ],
      "execution_count": 0,
      "outputs": [
        {
          "output_type": "stream",
          "text": [
            "Train on 60000 samples, validate on 10000 samples\n",
            "Epoch 1/10\n",
            "60000/60000==============================] - 3s 56us/sample - loss: 0.6001 - acc: 0.7982 - val_loss: 0.5044 - val_acc: 0.8259\n",
            "Epoch 2/10\n",
            "60000/60000==============================] - 3s 55us/sample - loss: 0.4612 - acc: 0.8414 - val_loss: 0.4757 - val_acc: 0.8349\n",
            "Epoch 3/10\n",
            "60000/60000==============================] - 3s 54us/sample - loss: 0.4358 - acc: 0.8507 - val_loss: 0.4630 - val_acc: 0.8366\n",
            "Epoch 4/10\n",
            "60000/60000==============================] - 3s 54us/sample - loss: 0.4214 - acc: 0.8547 - val_loss: 0.4555 - val_acc: 0.8406\n",
            "Epoch 5/10\n",
            "60000/60000==============================] - 3s 55us/sample - loss: 0.4132 - acc: 0.8582 - val_loss: 0.4513 - val_acc: 0.8410\n",
            "Epoch 6/10\n",
            "60000/60000==============================] - 3s 54us/sample - loss: 0.4071 - acc: 0.8581 - val_loss: 0.4548 - val_acc: 0.8414\n",
            "Epoch 7/10\n",
            "60000/60000==============================] - 3s 54us/sample - loss: 0.4025 - acc: 0.8601 - val_loss: 0.4547 - val_acc: 0.8396\n",
            "Epoch 8/10\n",
            "60000/60000==============================] - 3s 54us/sample - loss: 0.3988 - acc: 0.8613 - val_loss: 0.4467 - val_acc: 0.8455\n",
            "Epoch 9/10\n",
            "60000/60000==============================] - 3s 54us/sample - loss: 0.3955 - acc: 0.8622 - val_loss: 0.4531 - val_acc: 0.8437\n",
            "Epoch 10/10\n",
            "60000/60000==============================] - 3s 55us/sample - loss: 0.3918 - acc: 0.8641 - val_loss: 0.4463 - val_acc: 0.8441\n"
          ],
          "name": "stdout"
        }
      ]
    },
    {
      "metadata": {
        "id": "u6O629yfP7s2",
        "colab_type": "text"
      },
      "cell_type": "markdown",
      "source": [
        "#### 1.2 compares the training and validation accuracy"
      ]
    },
    {
      "metadata": {
        "id": "N-buuIx6PEjq",
        "colab_type": "code",
        "colab": {}
      },
      "cell_type": "code",
      "source": [
        "acc, loss, val_acc, val_loss = history.history['acc'],history.history['loss'],history.history['val_acc'],history.history['val_loss']"
      ],
      "execution_count": 0,
      "outputs": []
    },
    {
      "metadata": {
        "id": "E6h_yNbtPx2g",
        "colab_type": "code",
        "outputId": "1006c256-c115-4240-9b1b-ea3f817f5429",
        "colab": {
          "base_uri": "https://localhost:8080/",
          "height": 365
        }
      },
      "cell_type": "code",
      "source": [
        "fig, ax = plt.subplots(1, 2, figsize=(10, 5))\n",
        "epochs = range(1, len(acc) + 1)\n",
        "\n",
        "ax[0].plot(epochs, acc, label='train')\n",
        "ax[0].plot(epochs, val_acc, label='validation')\n",
        "ax[0].set_xlabel('Epoch')\n",
        "ax[0].set_ylabel('Accuracy')\n",
        "ax[0].legend()\n",
        "\n",
        "ax[1].plot(epochs, loss, label='train')\n",
        "ax[1].plot(epochs, val_loss, label='validation')\n",
        "ax[1].set_xlabel('Epoch')\n",
        "ax[1].set_ylabel('Loss')\n",
        "ax[1].legend()\n",
        "plt.tight_layout()"
      ],
      "execution_count": 0,
      "outputs": [
        {
          "output_type": "display_data",
          "data": {
            "image/png": "[encoded data removed]",
            "text/plain": [
              "<Figure size 720x360 with 2 Axes>"
            ]
          },
          "metadata": {
            "tags": []
          }
        }
      ]
    },
    {
      "metadata": {
        "id": "wwA0e8k3TW84",
        "colab_type": "text"
      },
      "cell_type": "markdown",
      "source": [
        "## 2. Implement and train a deep neural network to classify this dataset. No need to produce plots for this part, just try to get the validation accuracy as high as you can."
      ]
    },
    {
      "metadata": {
        "id": "mposkDQ0RdU7",
        "colab_type": "code",
        "colab": {}
      },
      "cell_type": "code",
      "source": [
        "model1 = keras.Sequential([\n",
        "    keras.layers.Flatten(input_shape=(28, 28)),\n",
        "    keras.layers.Dense(512, activation=tf.nn.relu),\n",
        "    keras.layers.Dense(10, activation=tf.nn.softmax)\n",
        "])\n",
        "model1.compile(optimizer='adam', loss='sparse_categorical_crossentropy', metrics=['accuracy'])"
      ],
      "execution_count": 0,
      "outputs": []
    },
    {
      "metadata": {
        "id": "GjeKOT7MTqxN",
        "colab_type": "code",
        "outputId": "c75036f7-1580-4d00-e059-a5af5a2bf2b6",
        "colab": {
          "base_uri": "https://localhost:8080/",
          "height": 374
        }
      },
      "cell_type": "code",
      "source": [
        "history1 = model1.fit(train_images, train_labels, validation_data=(test_images, test_labels), epochs=10)"
      ],
      "execution_count": 35,
      "outputs": [
        {
          "output_type": "stream",
          "text": [
            "Train on 60000 samples, validate on 10000 samples\n",
            "Epoch 1/10\n",
            "60000/60000==============================] - 11s 191us/sample - loss: 0.4760 - acc: 0.8285 - val_loss: 0.4104 - val_acc: 0.8506\n",
            "Epoch 2/10\n",
            "60000/60000==============================] - 12s 193us/sample - loss: 0.3594 - acc: 0.8680 - val_loss: 0.3804 - val_acc: 0.8657\n",
            "Epoch 3/10\n",
            "60000/60000==============================] - 12s 196us/sample - loss: 0.3240 - acc: 0.8805 - val_loss: 0.3773 - val_acc: 0.8643\n",
            "Epoch 4/10\n",
            "60000/60000==============================] - 12s 193us/sample - loss: 0.2989 - acc: 0.8896 - val_loss: 0.3443 - val_acc: 0.8801\n",
            "Epoch 5/10\n",
            "60000/60000==============================] - 11s 188us/sample - loss: 0.2791 - acc: 0.8962 - val_loss: 0.3501 - val_acc: 0.8747\n",
            "Epoch 6/10\n",
            "60000/60000==============================] - 11s 190us/sample - loss: 0.2668 - acc: 0.9006 - val_loss: 0.3347 - val_acc: 0.8813\n",
            "Epoch 7/10\n",
            "60000/60000==============================] - 11s 189us/sample - loss: 0.2525 - acc: 0.9058 - val_loss: 0.3421 - val_acc: 0.8801\n",
            "Epoch 8/10\n",
            "60000/60000==============================] - 11s 189us/sample - loss: 0.2422 - acc: 0.9095 - val_loss: 0.3476 - val_acc: 0.8839\n",
            "Epoch 9/10\n",
            "60000/60000==============================] - 11s 190us/sample - loss: 0.2326 - acc: 0.9132 - val_loss: 0.3474 - val_acc: 0.8840\n",
            "Epoch 10/10\n",
            "60000/60000==============================] - 11s 188us/sample - loss: 0.2229 - acc: 0.9160 - val_loss: 0.3513 - val_acc: 0.8776\n"
          ],
          "name": "stdout"
        }
      ]
    },
    {
      "metadata": {
        "id": "znJCQrK6Twzl",
        "colab_type": "code",
        "outputId": "8bc7fa8a-764e-4b4c-f533-c96da9620d96",
        "colab": {
          "base_uri": "https://localhost:8080/",
          "height": 51
        }
      },
      "cell_type": "code",
      "source": [
        "test_loss, test_acc = model1.evaluate(test_images, test_labels)\n",
        "print('Test accuracy:', test_acc)"
      ],
      "execution_count": 36,
      "outputs": [
        {
          "output_type": "stream",
          "text": [
            "10000/10000==============================] - 1s 75us/sample - loss: 0.3513 - acc: 0.8776\n",
            "Test accuracy: 0.8776\n"
          ],
          "name": "stdout"
        }
      ]
    },
    {
      "metadata": {
        "id": "TOTapOzlUwe5",
        "colab_type": "text"
      },
      "cell_type": "markdown",
      "source": [
        "## 3. Produce a diagram that visualizes your linear and deep models using ​plot_model​. You can find a complete example of how to use plot model ​here​. Include these plots with your submission.\n"
      ]
    },
    {
      "metadata": {
        "id": "GCV5NGhTUnsf",
        "colab_type": "code",
        "colab": {}
      },
      "cell_type": "code",
      "source": [
        "from keras.utils import plot_model\n",
        "import matplotlib.image as mpimg\n",
        "plot_model(model, show_shapes=True, to_file='linear.png')\n",
        "plot_model(model1, show_shapes=True, to_file='deep.png')"
      ],
      "execution_count": 0,
      "outputs": []
    },
    {
      "metadata": {
        "id": "1z0LaPQNVkw0",
        "colab_type": "code",
        "outputId": "aba2dd25-6abc-491e-bd0f-03ff0321f76a",
        "colab": {
          "base_uri": "https://localhost:8080/",
          "height": 449
        }
      },
      "cell_type": "code",
      "source": [
        "fig, ax = plt.subplots(1, 2, figsize=(15, 10))\n",
        "_ = ax[0].imshow(mpimg.imread('linear.png'))\n",
        "_ = ax[1].imshow(mpimg.imread('deep.png'))"
      ],
      "execution_count": 22,
      "outputs": [
        {
          "output_type": "display_data",
          "data": {
            "image/png": "[encoded data removed]",
            "text/plain": [
              "<Figure size 1080x720 with 2 Axes>"
            ]
          },
          "metadata": {
            "tags": []
          }
        }
      ]
    },
    {
      "metadata": {
        "id": "ySLwdyfygdoB",
        "colab_type": "text"
      },
      "cell_type": "markdown",
      "source": [
        "## 4. Produce a confusion matrix for one of your models, showing which classes it classifies well, and which it has trouble with. You can reuse the sklearn ​code​ for confusion matrices (it’s great). You’ll just need to use your model to make predictions on the each image in the test set, and compare them with the correct answer. Include the confusion matrix in your submission."
      ]
    },
    {
      "metadata": {
        "id": "Ptvt1Wn4e27l",
        "colab_type": "code",
        "colab": {}
      },
      "cell_type": "code",
      "source": [
        "import itertools\n",
        "from sklearn.metrics import confusion_matrix"
      ],
      "execution_count": 0,
      "outputs": []
    },
    {
      "metadata": {
        "id": "LDII_l1MlkJp",
        "colab_type": "code",
        "outputId": "8cd9abd0-8ff9-4875-ef92-372c8de56ae9",
        "colab": {
          "base_uri": "https://localhost:8080/",
          "height": 34
        }
      },
      "cell_type": "code",
      "source": [
        "predictions_array = model1.predict(test_images)\n",
        "predictions = np.argmax(predictions_array, 1)\n",
        "print(predictions.shape)"
      ],
      "execution_count": 24,
      "outputs": [
        {
          "output_type": "stream",
          "text": [
            "(10000,)\n"
          ],
          "name": "stdout"
        }
      ]
    },
    {
      "metadata": {
        "id": "lRMrC7f0ly_D",
        "colab_type": "code",
        "colab": {}
      },
      "cell_type": "code",
      "source": [
        "def plot_confusion_matrix(cm, classes,\n",
        "                          normalize=False,\n",
        "                          title='Confusion matrix',\n",
        "                          cmap=plt.cm.Blues):\n",
        "    \"\"\"\n",
        "    This function prints and plots the confusion matrix.\n",
        "    Normalization can be applied by setting `normalize=True`.\n",
        "    \"\"\"\n",
        "    if normalize:\n",
        "        cm = cm.astype('float') / cm.sum(axis=1)[:, np.newaxis]\n",
        "        print(\"Normalized confusion matrix\")\n",
        "    else:\n",
        "        print('Confusion matrix, without normalization')\n",
        "\n",
        "    print(cm)\n",
        "\n",
        "    plt.imshow(cm, interpolation='nearest', cmap=cmap)\n",
        "    plt.title(title)\n",
        "    plt.colorbar()\n",
        "    tick_marks = np.arange(len(classes))\n",
        "    plt.xticks(tick_marks, classes, rotation=45)\n",
        "    plt.yticks(tick_marks, classes)\n",
        "\n",
        "    fmt = '.2f' if normalize else 'd'\n",
        "    thresh = cm.max() / 2.\n",
        "    for i, j in itertools.product(range(cm.shape[0]), range(cm.shape[1])):\n",
        "        plt.text(j, i, format(cm[i, j], fmt),\n",
        "                 horizontalalignment=\"center\",\n",
        "                 color=\"white\" if cm[i, j] > thresh else \"black\")\n",
        "\n",
        "    plt.ylabel('True label')\n",
        "    plt.xlabel('Predicted label')\n",
        "    plt.tight_layout()"
      ],
      "execution_count": 0,
      "outputs": []
    },
    {
      "metadata": {
        "id": "96sgt1XRl6ex",
        "colab_type": "code",
        "outputId": "417ca32d-d06d-450b-b02a-6744763ddaaf",
        "colab": {
          "base_uri": "https://localhost:8080/",
          "height": 675
        }
      },
      "cell_type": "code",
      "source": [
        "class_names = ['T-shirt', 'Trouser', 'Pullover', 'Dress', 'Coat', \n",
        "               'Sandal', 'Shirt', 'Sneaker', 'Bag', 'Ankle boot']\n",
        "\n",
        "# Compute confusion matrix\n",
        "cnf_matrix = confusion_matrix(test_labels, predictions)\n",
        "np.set_printoptions(precision=2)\n",
        "\n",
        "# Plot normalized confusion matrix\n",
        "plt.figure(figsize=(7, 7))\n",
        "plot_confusion_matrix(cnf_matrix, classes=class_names, normalize=True,\n",
        "                      title='Normalized confusion matrix')"
      ],
      "execution_count": 26,
      "outputs": [
        {
          "output_type": "stream",
          "text": [
            "Normalized confusion matrix\n",
            "[[0.81 0.   0.01 0.04 0.   0.   0.13 0.   0.01 0.  ]\n",
            " [0.   0.97 0.   0.02 0.   0.   0.   0.   0.   0.  ]\n",
            " [0.02 0.   0.83 0.01 0.07 0.   0.07 0.   0.   0.  ]\n",
            " [0.01 0.   0.01 0.93 0.02 0.   0.02 0.   0.   0.  ]\n",
            " [0.   0.   0.12 0.04 0.79 0.   0.05 0.   0.   0.  ]\n",
            " [0.   0.   0.   0.   0.   0.98 0.   0.01 0.   0.01]\n",
            " [0.09 0.   0.08 0.05 0.07 0.   0.7  0.   0.01 0.  ]\n",
            " [0.   0.   0.   0.   0.   0.05 0.   0.9  0.   0.06]\n",
            " [0.01 0.   0.   0.01 0.   0.01 0.01 0.   0.97 0.  ]\n",
            " [0.   0.   0.   0.   0.   0.01 0.   0.01 0.   0.97]]\n"
          ],
          "name": "stdout"
        },
        {
          "output_type": "display_data",
          "data": {
            "image/png": "[encoded data removed]",
            "text/plain": [
              "<Figure size 504x504 with 2 Axes>"
            ]
          },
          "metadata": {
            "tags": []
          }
        }
      ]
    },
    {
      "metadata": {
        "id": "bbRCAYuEo7VU",
        "colab_type": "text"
      },
      "cell_type": "markdown",
      "source": [
        "## 4.1 Result:\n",
        "* **Shirt** is not predicted well. \n",
        "* **Sandal, Bag** are good."
      ]
    },
    {
      "metadata": {
        "id": "BG397NIzmiQU",
        "colab_type": "text"
      },
      "cell_type": "markdown",
      "source": [
        "# Part 2 ​(50 points)​: ​\n",
        "Implement and evaluate two models to classify the Fashion MNIST dataset using the Keras Subclassing API.\n",
        "## 5. Implement and train a linear model to classify this dataset. Evaluate it by producing a plot that compares the training and validation accuracy. Include this plot with your submission."
      ]
    },
    {
      "metadata": {
        "id": "snz8yrUqmhl6",
        "colab_type": "code",
        "outputId": "19edf46f-02ce-4aea-b641-495bed3192cb",
        "colab": {
          "base_uri": "https://localhost:8080/",
          "height": 636
        }
      },
      "cell_type": "code",
      "source": [
        "!pip install tf-nightly-2.0-preview"
      ],
      "execution_count": 27,
      "outputs": [
        {
          "output_type": "stream",
          "text": [
            "Collecting tf-nightly-2.0-preview\n",
            "\u001b[?25l  Downloading https://files.pythonhosted.org/packages/8a/f6/1f65ad04c60e5748b0426d8514b058bcc60341d27e12ff304461e270eeb9/tf_nightly_2.0_preview-2.0.0.dev20190208-cp36-cp36m-manylinux1_x86_64.whl (75.8MB)\n",
            "\u001b[K    100% |████████████████████████████████| 75.8MB 414kB/s \n",
            "\u001b[?25hRequirement already satisfied: grpcio>=1.8.6 in /usr/local/lib/python3.6/dist-packages (from tf-nightly-2.0-preview) (1.15.0)\n",
            "Requirement already satisfied: astor>=0.6.0 in /usr/local/lib/python3.6/dist-packages (from tf-nightly-2.0-preview) (0.7.1)\n",
            "Collecting tensorflow-estimator-2.0-preview (from tf-nightly-2.0-preview)\n",
            "\u001b[?25l  Downloading https://files.pythonhosted.org/packages/35/c1/5a32c6093e96421cb0fe64d25a0e9c5e7bba9d87c7e431fb375b12437e73/tensorflow_estimator_2.0_preview-1.13.0.dev2019012800-py2.py3-none-any.whl (347kB)\n",
            "\u001b[K    100% |████████████████████████████████| 348kB 19.5MB/s \n",
            "\u001b[?25hRequirement already satisfied: keras-applications>=1.0.6 in /usr/local/lib/python3.6/dist-packages (from tf-nightly-2.0-preview) (1.0.7)\n",
            "Requirement already satisfied: gast>=0.2.0 in /usr/local/lib/python3.6/dist-packages (from tf-nightly-2.0-preview) (0.2.2)\n",
            "Requirement already satisfied: termcolor>=1.1.0 in /usr/local/lib/python3.6/dist-packages (from tf-nightly-2.0-preview) (1.1.0)\n",
            "Requirement already satisfied: absl-py>=0.1.6 in /usr/local/lib/python3.6/dist-packages (from tf-nightly-2.0-preview) (0.7.0)\n",
            "Requirement already satisfied: six>=1.10.0 in /usr/local/lib/python3.6/dist-packages (from tf-nightly-2.0-preview) (1.11.0)\n",
            "Requirement already satisfied: wheel>=0.26 in /usr/local/lib/python3.6/dist-packages (from tf-nightly-2.0-preview) (0.32.3)\n",
            "Requirement already satisfied: protobuf>=3.6.1 in /usr/local/lib/python3.6/dist-packages (from tf-nightly-2.0-preview) (3.6.1)\n",
            "Collecting google-pasta>=0.1.1 (from tf-nightly-2.0-preview)\n",
            "\u001b[?25l  Downloading https://files.pythonhosted.org/packages/86/6c/9eabce1c1cdaa657751a802f94d71ca29b8f82e10cac97c3fd5f8c82736c/google_pasta-0.1.1-py3-none-any.whl (51kB)\n",
            "\u001b[K    100% |████████████████████████████████| 61kB 20.0MB/s \n",
            "\u001b[?25hCollecting tb-nightly<1.14.0a0,>=1.13.0a0 (from tf-nightly-2.0-preview)\n",
            "\u001b[?25l  Downloading https://files.pythonhosted.org/packages/66/eb/269b754ddb9b501006fe261cea19340033bd0248196fa85af5fa53e419ea/tb_nightly-1.13.0a20190208-py3-none-any.whl (3.2MB)\n",
            "\u001b[K    100% |████████████████████████████████| 3.2MB 10.4MB/s \n",
            "\u001b[?25hRequirement already satisfied: keras-preprocessing>=1.0.5 in /usr/local/lib/python3.6/dist-packages (from tf-nightly-2.0-preview) (1.0.9)\n",
            "Requirement already satisfied: numpy<2.0,>=1.14.5 in /usr/local/lib/python3.6/dist-packages (from tf-nightly-2.0-preview) (1.14.6)\n",
            "Requirement already satisfied: h5py in /usr/local/lib/python3.6/dist-packages (from keras-applications>=1.0.6->tf-nightly-2.0-preview) (2.8.0)\n",
            "Requirement already satisfied: setuptools in /usr/local/lib/python3.6/dist-packages (from protobuf>=3.6.1->tf-nightly-2.0-preview) (40.8.0)\n",
            "Requirement already satisfied: werkzeug>=0.11.15 in /usr/local/lib/python3.6/dist-packages (from tb-nightly<1.14.0a0,>=1.13.0a0->tf-nightly-2.0-preview) (0.14.1)\n",
            "Requirement already satisfied: markdown>=2.6.8 in /usr/local/lib/python3.6/dist-packages (from tb-nightly<1.14.0a0,>=1.13.0a0->tf-nightly-2.0-preview) (3.0.1)\n",
            "Installing collected packages: tensorflow-estimator-2.0-preview, google-pasta, tb-nightly, tf-nightly-2.0-preview\n",
            "Successfully installed google-pasta-0.1.1 tb-nightly-1.13.0a20190208 tensorflow-estimator-2.0-preview-1.13.0.dev2019012800 tf-nightly-2.0-preview-2.0.0.dev20190208\n"
          ],
          "name": "stdout"
        },
        {
          "output_type": "display_data",
          "data": {
            "application/vnd.colab-display-data+json": {
              "pip_warning": {
                "packages": [
                  "tensorflow",
                  "tensorflow_estimator"
                ]
              }
            }
          },
          "metadata": {
            "tags": []
          }
        }
      ]
    },
    {
      "metadata": {
        "id": "-a75FSM2l-Ku",
        "colab_type": "code",
        "outputId": "8dbdec88-0146-466f-d05a-6a91b05a193b",
        "colab": {
          "base_uri": "https://localhost:8080/",
          "height": 34
        }
      },
      "cell_type": "code",
      "source": [
        "import tensorflow as tf\n",
        "print(\"You have version\", tf.__version__)\n",
        "assert tf.__version__ >= \"2.0\"\n",
        "\n",
        "import numpy as np\n",
        "from tensorflow import keras\n",
        "from tensorflow.keras import Model"
      ],
      "execution_count": 28,
      "outputs": [
        {
          "output_type": "stream",
          "text": [
            "You have version 2.0.0-dev20190208\n"
          ],
          "name": "stdout"
        }
      ]
    },
    {
      "metadata": {
        "id": "_LSudD4Kq5Fk",
        "colab_type": "code",
        "colab": {}
      },
      "cell_type": "code",
      "source": [
        "epochs = 10\n",
        "batch_size = 128\n",
        "mnist = tf.keras.datasets.fashion_mnist\n",
        "\n",
        "# Dataset will be cached locally after it's downloaded\n",
        "(x_train, y_train), (x_test, y_test) = mnist.load_data()\n",
        "\n",
        "# Normalize pixel values to [0, 1]\n",
        "x_train, x_test = x_train / 255.0, x_test / 255.0\n",
        "\n",
        "# These types are required for the operation we use later to compute loss.\n",
        "y_train = y_train.astype(np.int32)\n",
        "y_test = y_test.astype(np.int32)\n",
        "\n",
        "shuffle_buffer = len(x_train)\n",
        "\n",
        "train_dataset = tf.data.Dataset.from_tensor_slices(\n",
        "                                    (x_train, y_train)\n",
        "                                  ).shuffle(shuffle_buffer)\n",
        "train_dataset = train_dataset.batch(batch_size)"
      ],
      "execution_count": 0,
      "outputs": []
    },
    {
      "metadata": {
        "id": "srhqzVL4sbIx",
        "colab_type": "code",
        "colab": {}
      },
      "cell_type": "code",
      "source": [
        "def loss(logits, labels):\n",
        "  return tf.reduce_mean(\n",
        "      tf.nn.sparse_softmax_cross_entropy_with_logits(\n",
        "          logits=logits, labels=labels))"
      ],
      "execution_count": 0,
      "outputs": []
    },
    {
      "metadata": {
        "id": "o-MrxxrnscSR",
        "colab_type": "code",
        "colab": {}
      },
      "cell_type": "code",
      "source": [
        "def train_on_batch(model, images, labels):\n",
        "  with tf.GradientTape() as tape:\n",
        "    logits = model(images)\n",
        "    loss_value = loss(logits, labels)\n",
        "  grads = tape.gradient(loss_value, model.variables)\n",
        "  #dy_loss/dw\n",
        "  \n",
        "  optimizer.apply_gradients(zip(grads, model.variables))\n",
        "  return loss_value"
      ],
      "execution_count": 0,
      "outputs": []
    },
    {
      "metadata": {
        "id": "wYDOVmdP10j8",
        "colab_type": "code",
        "colab": {}
      },
      "cell_type": "code",
      "source": [
        "def calc_accuracy(logits, labels):\n",
        "  predictions = tf.argmax(logits, axis=1)\n",
        "  batch_size = int(logits.shape[0])\n",
        "  acc = tf.reduce_sum(\n",
        "      tf.cast(tf.equal(predictions, labels), dtype=tf.float32)) / batch_size\n",
        "  return acc * 100"
      ],
      "execution_count": 0,
      "outputs": []
    },
    {
      "metadata": {
        "id": "EK2VNqRnOclr",
        "colab_type": "text"
      },
      "cell_type": "markdown",
      "source": [
        "## 5.1 Implement and train a linear model to classify this dataset. Evaluate it by producing a plot that compares the training and validation accuracy. Include this plot with your submission."
      ]
    },
    {
      "metadata": {
        "id": "D4vWWkCytlyg",
        "colab_type": "code",
        "colab": {}
      },
      "cell_type": "code",
      "source": [
        "class MyModel(Model):\n",
        "  def __init__(self):\n",
        "    super(MyModel, self).__init__()\n",
        "    self.flatten = keras.layers.Flatten()   \n",
        "    self.d1 = keras.layers.Dense(10)\n",
        "    self.a1 = tf.nn.softmax\n",
        "\n",
        "  def call(self, x):\n",
        "    # Unroll the images into arrays\n",
        "    x = self.flatten(x)\n",
        "    x = self.d1(x)\n",
        "    x = self.a1(x)\n",
        "    return x"
      ],
      "execution_count": 0,
      "outputs": []
    },
    {
      "metadata": {
        "id": "XefZBOOY2fBr",
        "colab_type": "code",
        "outputId": "e4ad1f33-07c2-4c9d-912e-86242d45b5e0",
        "colab": {
          "base_uri": "https://localhost:8080/",
          "height": 1479
        }
      },
      "cell_type": "code",
      "source": [
        "model2 = MyModel()\n",
        "acc = []\n",
        "val_acc = []\n",
        "\n",
        "optimizer = tf.keras.optimizers.Adam()\n",
        "\n",
        "for epoch in range(epochs):\n",
        "  print('Epoch', epoch + 1)\n",
        "  for (batch, (images, labels)) in enumerate(train_dataset):\n",
        "    loss_value = train_on_batch(model2, images, labels)\n",
        "    step = optimizer.iterations.numpy() \n",
        "    if step % 100 == 0:\n",
        "      print('Step %d\\tLoss: %.4f' % (step, loss_value))\n",
        "  \n",
        "  acc.append(calc_accuracy(model2(x_train), y_train))\n",
        "  val_acc.append(calc_accuracy(model2(x_test), y_test))\n",
        "  \n",
        "  print('Train accuracy %.2f' % calc_accuracy(model2(x_train), y_train))\n",
        "  print('Test accuracy %.2f\\n' % calc_accuracy(model2(x_test), y_test))"
      ],
      "execution_count": 15,
      "outputs": [
        {
          "output_type": "stream",
          "text": [
            "Epoch 1\n",
            "Step 100\tLoss: 1.7665\n",
            "Step 200\tLoss: 1.7924\n",
            "Step 300\tLoss: 1.7514\n",
            "Step 400\tLoss: 1.8197\n",
            "Train accuracy 75.28\n",
            "Test accuracy 74.63\n",
            "\n",
            "Epoch 2\n",
            "Step 500\tLoss: 1.7240\n",
            "Step 600\tLoss: 1.7420\n",
            "Step 700\tLoss: 1.7181\n",
            "Step 800\tLoss: 1.7582\n",
            "Step 900\tLoss: 1.6919\n",
            "Train accuracy 77.01\n",
            "Test accuracy 76.22\n",
            "\n",
            "Epoch 3\n",
            "Step 1000\tLoss: 1.7520\n",
            "Step 1100\tLoss: 1.6699\n",
            "Step 1200\tLoss: 1.7110\n",
            "Step 1300\tLoss: 1.6577\n",
            "Step 1400\tLoss: 1.6801\n",
            "Train accuracy 77.93\n",
            "Test accuracy 76.87\n",
            "\n",
            "Epoch 4\n",
            "Step 1500\tLoss: 1.6716\n",
            "Step 1600\tLoss: 1.6940\n",
            "Step 1700\tLoss: 1.7231\n",
            "Step 1800\tLoss: 1.7110\n",
            "Train accuracy 78.51\n",
            "Test accuracy 77.45\n",
            "\n",
            "Epoch 5\n",
            "Step 1900\tLoss: 1.7538\n",
            "Step 2000\tLoss: 1.6921\n",
            "Step 2100\tLoss: 1.6437\n",
            "Step 2200\tLoss: 1.6491\n",
            "Step 2300\tLoss: 1.6628\n",
            "Train accuracy 78.88\n",
            "Test accuracy 77.84\n",
            "\n",
            "Epoch 6\n",
            "Step 2400\tLoss: 1.6610\n",
            "Step 2500\tLoss: 1.6565\n",
            "Step 2600\tLoss: 1.6573\n",
            "Step 2700\tLoss: 1.6915\n",
            "Step 2800\tLoss: 1.6878\n",
            "Train accuracy 79.18\n",
            "Test accuracy 78.14\n",
            "\n",
            "Epoch 7\n",
            "Step 2900\tLoss: 1.6981\n",
            "Step 3000\tLoss: 1.6101\n",
            "Step 3100\tLoss: 1.6682\n",
            "Step 3200\tLoss: 1.7293\n",
            "Train accuracy 79.40\n",
            "Test accuracy 78.33\n",
            "\n",
            "Epoch 8\n",
            "Step 3300\tLoss: 1.7003\n",
            "Step 3400\tLoss: 1.6858\n",
            "Step 3500\tLoss: 1.6526\n",
            "Step 3600\tLoss: 1.7140\n",
            "Step 3700\tLoss: 1.6735\n",
            "Train accuracy 79.60\n",
            "Test accuracy 78.49\n",
            "\n",
            "Epoch 9\n",
            "Step 3800\tLoss: 1.7250\n",
            "Step 3900\tLoss: 1.6833\n",
            "Step 4000\tLoss: 1.6389\n",
            "Step 4100\tLoss: 1.6936\n",
            "Step 4200\tLoss: 1.6318\n",
            "Train accuracy 79.78\n",
            "Test accuracy 78.61\n",
            "\n",
            "Epoch 10\n",
            "Step 4300\tLoss: 1.6823\n",
            "Step 4400\tLoss: 1.6493\n",
            "Step 4500\tLoss: 1.6780\n",
            "Step 4600\tLoss: 1.7085\n",
            "Train accuracy 79.93\n",
            "Test accuracy 78.84\n",
            "\n"
          ],
          "name": "stdout"
        }
      ]
    },
    {
      "metadata": {
        "id": "XlVN1emQ95kD",
        "colab_type": "code",
        "outputId": "1356ef41-acc4-4267-8f38-1f372f557114",
        "colab": {
          "base_uri": "https://localhost:8080/",
          "height": 393
        }
      },
      "cell_type": "code",
      "source": [
        "plt.figure()\n",
        "plt.title('Training and validation loss')\n",
        "epochs = range(1, len(acc) + 1)\n",
        "plt.plot(epochs, acc, label='Train')\n",
        "plt.plot(epochs, val_acc, label='Validation')\n",
        "plt.xlabel('Epoch')\n",
        "plt.ylabel('Accuracy')\n",
        "plt.legend()"
      ],
      "execution_count": 18,
      "outputs": [
        {
          "output_type": "execute_result",
          "data": {
            "text/plain": [
              "<matplotlib.legend.Legend at 0x7f56506594a8>"
            ]
          },
          "metadata": {
            "tags": []
          },
          "execution_count": 18
        },
        {
          "output_type": "display_data",
          "data": {
            "image/png": "[encoded data removed]",
            "text/plain": [
              "<Figure size 576x396 with 1 Axes>"
            ]
          },
          "metadata": {
            "tags": []
          }
        }
      ]
    },
    {
      "metadata": {
        "id": "oBILAVotOkI0",
        "colab_type": "text"
      },
      "cell_type": "markdown",
      "source": [
        "## 5.2 Implement and train a deep model to classify this dataset. No need to produce plots for this part, just try to get the validation accuracy as high as you can."
      ]
    },
    {
      "metadata": {
        "id": "JyA6d88SIscX",
        "colab_type": "code",
        "colab": {}
      },
      "cell_type": "code",
      "source": [
        "class MyModel_deep(Model):\n",
        "  def __init__(self):\n",
        "    super(MyModel_deep, self).__init__()\n",
        "    self.flatten = keras.layers.Flatten()\n",
        "    self.d1 = keras.layers.Dense(512, activation=tf.nn.relu)\n",
        "    self.d2 = keras.layers.Dense(10, activation=tf.nn.softmax)\n",
        "  def call(self, x):\n",
        "    x = self.flatten(x)\n",
        "    x = self.d1(x)\n",
        "    x = self.d2(x)\n",
        "    return x"
      ],
      "execution_count": 0,
      "outputs": []
    },
    {
      "metadata": {
        "id": "6gXmNfoMRtBl",
        "colab_type": "code",
        "outputId": "04325a74-ee34-4113-e435-c84a9f1f2fd5",
        "colab": {
          "base_uri": "https://localhost:8080/",
          "height": 748
        }
      },
      "cell_type": "code",
      "source": [
        "model_deep = MyModel_deep()\n",
        "\n",
        "optimizer = tf.keras.optimizers.Adam()\n",
        "\n",
        "for epoch in range(5):\n",
        "  print('Epoch', epoch + 1)\n",
        "  for (batch, (images, labels)) in enumerate(train_dataset):\n",
        "    loss_value = train_on_batch(model_deep, images, labels)\n",
        "    step = optimizer.iterations.numpy() \n",
        "    if step % 100 == 0:\n",
        "      print('Step %d\\tLoss: %.4f' % (step, loss_value))\n",
        "  print('Train accuracy %.2f' % calc_accuracy(model_deep(x_train), y_train))\n",
        "  print('Test accuracy %.2f\\n' % calc_accuracy(model_deep(x_test), y_test))"
      ],
      "execution_count": 20,
      "outputs": [
        {
          "output_type": "stream",
          "text": [
            "Epoch 1\n",
            "Step 100\tLoss: 1.6773\n",
            "Step 200\tLoss: 1.7460\n",
            "Step 300\tLoss: 1.6694\n",
            "Step 400\tLoss: 1.8014\n",
            "Train accuracy 74.11\n",
            "Test accuracy 73.49\n",
            "\n",
            "Epoch 2\n",
            "Step 500\tLoss: 1.7026\n",
            "Step 600\tLoss: 1.7478\n",
            "Step 700\tLoss: 1.7019\n",
            "Step 800\tLoss: 1.7302\n",
            "Step 900\tLoss: 1.6616\n",
            "Train accuracy 79.50\n",
            "Test accuracy 78.22\n",
            "\n",
            "Epoch 3\n",
            "Step 1000\tLoss: 1.6870\n",
            "Step 1100\tLoss: 1.6283\n",
            "Step 1200\tLoss: 1.6738\n",
            "Step 1300\tLoss: 1.6695\n",
            "Step 1400\tLoss: 1.6499\n",
            "Train accuracy 79.18\n",
            "Test accuracy 77.98\n",
            "\n",
            "Epoch 4\n",
            "Step 1500\tLoss: 1.6494\n",
            "Step 1600\tLoss: 1.6504\n",
            "Step 1700\tLoss: 1.6733\n",
            "Step 1800\tLoss: 1.6683\n",
            "Train accuracy 80.83\n",
            "Test accuracy 79.02\n",
            "\n",
            "Epoch 5\n",
            "Step 1900\tLoss: 1.7314\n",
            "Step 2000\tLoss: 1.6565\n",
            "Step 2100\tLoss: 1.6030\n",
            "Step 2200\tLoss: 1.6215\n",
            "Step 2300\tLoss: 1.6202\n",
            "Train accuracy 80.96\n",
            "Test accuracy 79.49\n",
            "\n"
          ],
          "name": "stdout"
        }
      ]
    },
    {
      "metadata": {
        "id": "f2h1zy1gqgWB",
        "colab_type": "code",
        "outputId": "bf6fa032-97d1-48e8-aa9e-c96889fc046c",
        "colab": {
          "base_uri": "https://localhost:8080/",
          "height": 34
        }
      },
      "cell_type": "code",
      "source": [
        "predictions = model_deep.predict(x_test)\n",
        "print(calc_accuracy(predictions, y_test))"
      ],
      "execution_count": 0,
      "outputs": [
        {
          "output_type": "stream",
          "text": [
            "tf.Tensor(85.45, shape=(), dtype=float32)\n"
          ],
          "name": "stdout"
        }
      ]
    },
    {
      "metadata": {
        "id": "9qWLMEQQNOxm",
        "colab_type": "text"
      },
      "cell_type": "markdown",
      "source": [
        "# EC1\n",
        "## Provide your own implementation of a squared error loss function, and run an experiment to compare it to cross entropy. What do you find?"
      ]
    },
    {
      "metadata": {
        "id": "hTPE-iK52hJH",
        "colab_type": "text"
      },
      "cell_type": "markdown",
      "source": [
        "## my_squared_error_loss"
      ]
    },
    {
      "metadata": {
        "id": "ThF_yzsDNUqV",
        "colab_type": "code",
        "colab": {}
      },
      "cell_type": "code",
      "source": [
        "def my_squared_error_loss(logits, labels, n_classes=10):\n",
        "  # softmax\n",
        "  ex = tf.math.exp(logits)\n",
        "  sm = ex / tf.reduce_sum(ex, axis=1, keepdims=True)\n",
        "  \n",
        "  # squared error\n",
        "  labels = tf.one_hot(labels, n_classes, dtype=tf.float64)\n",
        "  a = tf.math.abs(labels - sm)\n",
        "  return tf.reduce_mean(tf.reduce_sum(a * a, axis=1))"
      ],
      "execution_count": 0,
      "outputs": []
    },
    {
      "metadata": {
        "id": "XvXnudpn2ils",
        "colab_type": "text"
      },
      "cell_type": "markdown",
      "source": [
        "### TEST"
      ]
    },
    {
      "metadata": {
        "id": "0RVJ2kYUSwVH",
        "colab_type": "code",
        "colab": {}
      },
      "cell_type": "code",
      "source": [
        "epochs = 10\n",
        "batch_size = 128\n",
        "mnist = tf.keras.datasets.fashion_mnist\n",
        "\n",
        "# Dataset will be cached locally after it's downloaded\n",
        "(x_train, y_train), (x_test, y_test) = mnist.load_data()\n",
        "\n",
        "# Normalize pixel values to [0, 1]\n",
        "x_train, x_test = x_train / 255.0, x_test / 255.0\n",
        "\n",
        "# These types are required for the operation we use later to compute loss.\n",
        "y_train = y_train.astype(np.int32)\n",
        "y_test = y_test.astype(np.int32)\n",
        "\n",
        "shuffle_buffer = len(x_train)\n",
        "\n",
        "train_dataset = tf.data.Dataset.from_tensor_slices(\n",
        "                                    (x_train, y_train)\n",
        "                                  ).shuffle(shuffle_buffer)\n",
        "train_dataset = train_dataset.batch(batch_size)\n",
        "def built_in_loss(logits, labels):\n",
        "  return tf.reduce_mean(\n",
        "      tf.nn.sparse_softmax_cross_entropy_with_logits(\n",
        "          logits=logits, labels=labels))\n",
        "\n",
        "def train_on_batch(model, images, labels):\n",
        "  with tf.GradientTape() as tape:\n",
        "    # Forward pass\n",
        "    logits = model(images)\n",
        "    loss_one = built_in_loss(logits, labels)\n",
        "    loss_two = my_squared_error_loss(logits, labels)    \n",
        "    \n",
        "  # Backward pass\n",
        "  # I'll use our implementation to update the gradients.\n",
        "  grads = tape.gradient(loss_two, model.variables)\n",
        "  optimizer.apply_gradients(zip(grads, model.variables))\n",
        "  return loss_one, loss_two\n",
        "\n",
        "def calc_accuracy(logits, labels):\n",
        "  predictions = tf.argmax(logits, axis=1)\n",
        "  batch_size = int(logits.shape[0])\n",
        "  acc = tf.reduce_sum(\n",
        "      tf.cast(tf.equal(predictions, labels), dtype=tf.float32)) / batch_size\n",
        "  return acc * 100\n",
        "\n",
        "class MyModel(Model):\n",
        "  def __init__(self):\n",
        "    super(MyModel, self).__init__()\n",
        "    self.flatten = keras.layers.Flatten()\n",
        "    self.d1 = keras.layers.Dense(128, activation=tf.nn.relu)\n",
        "    self.d2 = keras.layers.Dense(10)\n",
        "  def call(self, x):\n",
        "    x = self.flatten(x)\n",
        "    x = self.d1(x)\n",
        "    x = self.d2(x)\n",
        "    return x"
      ],
      "execution_count": 0,
      "outputs": []
    },
    {
      "metadata": {
        "id": "YAADF5MRso7m",
        "colab_type": "code",
        "outputId": "d11368fe-9c3d-4bc5-fd0e-f4e0345f6892",
        "colab": {
          "base_uri": "https://localhost:8080/",
          "height": 1615
        }
      },
      "cell_type": "code",
      "source": [
        "# Loop over the dataset, grab batchs, and train our model\n",
        "# As we go, verify the loss returned by our implementation is\n",
        "# the same as the built-in methods.\n",
        "model_square = MyModel()\n",
        "optimizer = tf.keras.optimizers.Adam()\n",
        "EPOCHS = 5\n",
        "\n",
        "for epoch in range(EPOCHS):\n",
        "  print(\"Epoch\", epoch + 1, \"\\n\")\n",
        "  for (batch, (images, labels)) in enumerate(train_dataset):\n",
        "    loss_one, loss_two = train_on_batch(model_square, images, labels)\n",
        "    \n",
        "    # You can use something like this as a quick sanity check\n",
        "#     tf.debugging.assert_near(loss_one, loss_two, atol=0.001, rtol=0.001)\n",
        "    step = optimizer.iterations.numpy() \n",
        "    if step % 100 == 0:\n",
        "      print(\"Step\", step)\n",
        "      print(\"Built-in loss: %.4f, Our loss: %.4f\" % (loss_one.numpy(), loss_two.numpy()))\n",
        "      print(\"\")\n",
        "      \n",
        "  print('Train accuracy %.2f' % calc_accuracy(model_square(x_train), y_train))\n",
        "  print('Test accuracy %.2f\\n' % calc_accuracy(model_square(x_test), y_test))"
      ],
      "execution_count": 0,
      "outputs": [
        {
          "output_type": "stream",
          "text": [
            "Epoch 1 \n",
            "\n",
            "Step 100\n",
            "Built-in loss: 0.5320, Our loss: 0.2659\n",
            "\n",
            "Step 200\n",
            "Built-in loss: 0.4934, Our loss: 0.2632\n",
            "\n",
            "Step 300\n",
            "Built-in loss: 0.3409, Our loss: 0.1817\n",
            "\n",
            "Step 400\n",
            "Built-in loss: 0.3957, Our loss: 0.2140\n",
            "\n",
            "Train accuracy 85.52\n",
            "Test accuracy 84.22\n",
            "\n",
            "Epoch 2 \n",
            "\n",
            "Step 500\n",
            "Built-in loss: 0.5093, Our loss: 0.2515\n",
            "\n",
            "Step 600\n",
            "Built-in loss: 0.4000, Our loss: 0.2199\n",
            "\n",
            "Step 700\n",
            "Built-in loss: 0.4917, Our loss: 0.2536\n",
            "\n",
            "Step 800\n",
            "Built-in loss: 0.3692, Our loss: 0.1922\n",
            "\n",
            "Step 900\n",
            "Built-in loss: 0.3401, Our loss: 0.1757\n",
            "\n",
            "Train accuracy 87.26\n",
            "Test accuracy 85.81\n",
            "\n",
            "Epoch 3 \n",
            "\n",
            "Step 1000\n",
            "Built-in loss: 0.3563, Our loss: 0.1882\n",
            "\n",
            "Step 1100\n",
            "Built-in loss: 0.4142, Our loss: 0.2029\n",
            "\n",
            "Step 1200\n",
            "Built-in loss: 0.2510, Our loss: 0.1247\n",
            "\n",
            "Step 1300\n",
            "Built-in loss: 0.2686, Our loss: 0.1298\n",
            "\n",
            "Step 1400\n",
            "Built-in loss: 0.2923, Our loss: 0.1572\n",
            "\n",
            "Train accuracy 88.00\n",
            "Test accuracy 86.28\n",
            "\n",
            "Epoch 4 \n",
            "\n",
            "Step 1500\n",
            "Built-in loss: 0.2506, Our loss: 0.1324\n",
            "\n",
            "Step 1600\n",
            "Built-in loss: 0.3926, Our loss: 0.1978\n",
            "\n",
            "Step 1700\n",
            "Built-in loss: 0.3039, Our loss: 0.1634\n",
            "\n",
            "Step 1800\n",
            "Built-in loss: 0.4044, Our loss: 0.1918\n",
            "\n",
            "Train accuracy 88.54\n",
            "Test accuracy 86.52\n",
            "\n",
            "Epoch 5 \n",
            "\n",
            "Step 1900\n",
            "Built-in loss: 0.2199, Our loss: 0.1232\n",
            "\n",
            "Step 2000\n",
            "Built-in loss: 0.2869, Our loss: 0.1446\n",
            "\n",
            "Step 2100\n",
            "Built-in loss: 0.3310, Our loss: 0.1896\n",
            "\n",
            "Step 2200\n",
            "Built-in loss: 0.2404, Our loss: 0.1224\n",
            "\n",
            "Step 2300\n",
            "Built-in loss: 0.3542, Our loss: 0.1970\n",
            "\n",
            "Train accuracy 89.04\n",
            "Test accuracy 86.73\n",
            "\n"
          ],
          "name": "stdout"
        }
      ]
    },
    {
      "metadata": {
        "id": "9UjFku0x3Mhf",
        "colab_type": "text"
      },
      "cell_type": "markdown",
      "source": [
        "#### Compare to cross entropy"
      ]
    },
    {
      "metadata": {
        "id": "czsG3Wr_0vcD",
        "colab_type": "code",
        "outputId": "87feda4b-2e01-4f44-cb06-cd573f7dc30e",
        "colab": {
          "base_uri": "https://localhost:8080/",
          "height": 1615
        }
      },
      "cell_type": "code",
      "source": [
        "def train_on_batch(model, images, labels):\n",
        "  with tf.GradientTape() as tape:\n",
        "    # Forward pass\n",
        "    logits = model(images)\n",
        "    loss_one = built_in_loss(logits, labels)\n",
        "    loss_two = my_squared_error_loss(logits, labels)    \n",
        "    \n",
        "  # Backward pass\n",
        "  # I'll use our implementation to update the gradients.\n",
        "  grads = tape.gradient(loss_one, model.variables)\n",
        "  optimizer.apply_gradients(zip(grads, model.variables))\n",
        "  return loss_one, loss_two\n",
        "\n",
        "# Loop over the dataset, grab batchs, and train our model\n",
        "# As we go, verify the loss returned by our implementation is\n",
        "# the same as the built-in methods.\n",
        "model_cross = MyModel()\n",
        "optimizer = tf.keras.optimizers.Adam()\n",
        "EPOCHS = 5\n",
        "\n",
        "for epoch in range(EPOCHS):\n",
        "  print(\"Epoch\", epoch + 1, \"\\n\")\n",
        "  for (batch, (images, labels)) in enumerate(train_dataset):\n",
        "    loss_one, loss_two = train_on_batch(model_cross, images, labels)\n",
        "    \n",
        "    # You can use something like this as a quick sanity check\n",
        "#     tf.debugging.assert_near(loss_one, loss_two, atol=0.001, rtol=0.001)\n",
        "    step = optimizer.iterations.numpy() \n",
        "    if step % 100 == 0:\n",
        "      print(\"Step\", step)\n",
        "      print(\"Built-in loss: %.4f, Our loss: %.4f\" % (loss_one.numpy(), loss_two.numpy()))\n",
        "      print(\"\")\n",
        "      \n",
        "  print('Train accuracy %.2f' % calc_accuracy(model_cross(x_train), y_train))\n",
        "  print('Test accuracy %.2f\\n' % calc_accuracy(model_cross(x_test), y_test))"
      ],
      "execution_count": 0,
      "outputs": [
        {
          "output_type": "stream",
          "text": [
            "Epoch 1 \n",
            "\n",
            "Step 100\n",
            "Built-in loss: 0.5295, Our loss: 0.2714\n",
            "\n",
            "Step 200\n",
            "Built-in loss: 0.4769, Our loss: 0.2543\n",
            "\n",
            "Step 300\n",
            "Built-in loss: 0.3349, Our loss: 0.1818\n",
            "\n",
            "Step 400\n",
            "Built-in loss: 0.3969, Our loss: 0.2127\n",
            "\n",
            "Train accuracy 85.73\n",
            "Test accuracy 84.32\n",
            "\n",
            "Epoch 2 \n",
            "\n",
            "Step 500\n",
            "Built-in loss: 0.5259, Our loss: 0.2568\n",
            "\n",
            "Step 600\n",
            "Built-in loss: 0.3960, Our loss: 0.2215\n",
            "\n",
            "Step 700\n",
            "Built-in loss: 0.5246, Our loss: 0.2616\n",
            "\n",
            "Step 800\n",
            "Built-in loss: 0.3861, Our loss: 0.1996\n",
            "\n",
            "Step 900\n",
            "Built-in loss: 0.3549, Our loss: 0.1835\n",
            "\n",
            "Train accuracy 87.20\n",
            "Test accuracy 85.65\n",
            "\n",
            "Epoch 3 \n",
            "\n",
            "Step 1000\n",
            "Built-in loss: 0.3595, Our loss: 0.1939\n",
            "\n",
            "Step 1100\n",
            "Built-in loss: 0.4203, Our loss: 0.2007\n",
            "\n",
            "Step 1200\n",
            "Built-in loss: 0.2719, Our loss: 0.1339\n",
            "\n",
            "Step 1300\n",
            "Built-in loss: 0.2633, Our loss: 0.1367\n",
            "\n",
            "Step 1400\n",
            "Built-in loss: 0.2872, Our loss: 0.1589\n",
            "\n",
            "Train accuracy 87.76\n",
            "Test accuracy 85.71\n",
            "\n",
            "Epoch 4 \n",
            "\n",
            "Step 1500\n",
            "Built-in loss: 0.2497, Our loss: 0.1375\n",
            "\n",
            "Step 1600\n",
            "Built-in loss: 0.3623, Our loss: 0.1920\n",
            "\n",
            "Step 1700\n",
            "Built-in loss: 0.3028, Our loss: 0.1623\n",
            "\n",
            "Step 1800\n",
            "Built-in loss: 0.3901, Our loss: 0.1876\n",
            "\n",
            "Train accuracy 88.10\n",
            "Test accuracy 85.90\n",
            "\n",
            "Epoch 5 \n",
            "\n",
            "Step 1900\n",
            "Built-in loss: 0.2463, Our loss: 0.1344\n",
            "\n",
            "Step 2000\n",
            "Built-in loss: 0.2754, Our loss: 0.1430\n",
            "\n",
            "Step 2100\n",
            "Built-in loss: 0.3612, Our loss: 0.1912\n",
            "\n",
            "Step 2200\n",
            "Built-in loss: 0.2352, Our loss: 0.1179\n",
            "\n",
            "Step 2300\n",
            "Built-in loss: 0.3602, Our loss: 0.1964\n",
            "\n",
            "Train accuracy 88.54\n",
            "Test accuracy 86.22\n",
            "\n"
          ],
          "name": "stdout"
        }
      ]
    },
    {
      "metadata": {
        "id": "ruX_psZo0F--",
        "colab_type": "text"
      },
      "cell_type": "markdown",
      "source": [
        "#### They are mostly the same"
      ]
    },
    {
      "metadata": {
        "id": "DiROOYsbZzo9",
        "colab_type": "text"
      },
      "cell_type": "markdown",
      "source": [
        "# EC2\n",
        "## Provide your own implementation of a Dense layer."
      ]
    },
    {
      "metadata": {
        "id": "RRyiojnY5hdl",
        "colab_type": "code",
        "colab": {}
      },
      "cell_type": "code",
      "source": [
        "class MyDenseLayer(tf.keras.layers.Layer):\n",
        "  def __init__(self, num_outputs):\n",
        "    super(MyDenseLayer, self).__init__()\n",
        "    self.num_outputs = num_outputs\n",
        "    \n",
        "  def build(self, input_shape):\n",
        "    self.kernel = self.add_variable(\"kernel\", \n",
        "                                    shape=[int(input_shape[-1]), \n",
        "                                           self.num_outputs])\n",
        "    \n",
        "  def call(self, input):\n",
        "    return tf.matmul(input, self.kernel)"
      ],
      "execution_count": 0,
      "outputs": []
    },
    {
      "metadata": {
        "id": "vl_iRlPXxIsM",
        "colab_type": "code",
        "colab": {}
      },
      "cell_type": "code",
      "source": [
        "class MyModel_myLayer(Model):\n",
        "  def __init__(self):\n",
        "    super(MyModel_myLayer, self).__init__()\n",
        "    self.flatten = keras.layers.Flatten()\n",
        "    self.d1 = MyDenseLayer(10)\n",
        "  def call(self, x):\n",
        "    x = self.flatten(x)\n",
        "    x = self.d1(x)\n",
        "    x = tf.nn.softmax(x)\n",
        "    return x"
      ],
      "execution_count": 0,
      "outputs": []
    },
    {
      "metadata": {
        "id": "nby6CmMp3F7S",
        "colab_type": "text"
      },
      "cell_type": "markdown",
      "source": [
        "### Test my dense layer"
      ]
    },
    {
      "metadata": {
        "id": "nhTOKZojxq7t",
        "colab_type": "code",
        "colab": {}
      },
      "cell_type": "code",
      "source": [
        "model_myLayer = MyModel_myLayer()\n",
        "model_myLayer.compile(optimizer='adam', loss='sparse_categorical_crossentropy', metrics=['accuracy'])"
      ],
      "execution_count": 0,
      "outputs": []
    },
    {
      "metadata": {
        "id": "tWqtzRPUy3j2",
        "colab_type": "code",
        "colab": {
          "base_uri": "https://localhost:8080/",
          "height": 391
        },
        "outputId": "b85143b8-d35f-40c2-a4ed-88f1f89f64f4"
      },
      "cell_type": "code",
      "source": [
        "model_myLayer.fit(train_images, train_labels,validation_data=(test_images, test_labels), epochs=10)"
      ],
      "execution_count": 70,
      "outputs": [
        {
          "output_type": "stream",
          "text": [
            "Train on 60000 samples, validate on 10000 samples\n",
            "Epoch 1/10\n",
            "60000/60000==============================] - 4s 62us/sample - loss: 0.6047 - acc: 0.7945 - val_loss: 0.5216 - val_acc: 0.8172\n",
            "Epoch 2/10\n",
            "60000/60000==============================] - 3s 57us/sample - loss: 0.4702 - acc: 0.8399 - val_loss: 0.4840 - val_acc: 0.8332\n",
            "Epoch 3/10\n",
            "60000/60000==============================] - 3s 57us/sample - loss: 0.4461 - acc: 0.8471 - val_loss: 0.4905 - val_acc: 0.8266\n",
            "Epoch 4/10\n",
            "60000/60000==============================] - 3s 57us/sample - loss: 0.4341 - acc: 0.8505 - val_loss: 0.4699 - val_acc: 0.8381\n",
            "Epoch 5/10\n",
            "60000/60000==============================] - 4s 58us/sample - loss: 0.4270 - acc: 0.8534 - val_loss: 0.4636 - val_acc: 0.8414\n",
            "Epoch 6/10\n",
            "60000/60000==============================] - 3s 58us/sample - loss: 0.4205 - acc: 0.8558 - val_loss: 0.4600 - val_acc: 0.8400\n",
            "Epoch 7/10\n",
            "60000/60000==============================] - 3s 58us/sample - loss: 0.4151 - acc: 0.8570 - val_loss: 0.4893 - val_acc: 0.8332\n",
            "Epoch 8/10\n",
            "60000/60000==============================] - 3s 57us/sample - loss: 0.4121 - acc: 0.8572 - val_loss: 0.4608 - val_acc: 0.8397\n",
            "Epoch 9/10\n",
            "60000/60000==============================] - 3s 57us/sample - loss: 0.4077 - acc: 0.8583 - val_loss: 0.4644 - val_acc: 0.8393\n",
            "Epoch 10/10\n",
            "60000/60000==============================] - 4s 61us/sample - loss: 0.4063 - acc: 0.8589 - val_loss: 0.5016 - val_acc: 0.8210\n"
          ],
          "name": "stdout"
        },
        {
          "output_type": "execute_result",
          "data": {
            "text/plain": [
              "<tensorflow.python.keras.callbacks.History at 0x7f563a5aefd0>"
            ]
          },
          "metadata": {
            "tags": []
          },
          "execution_count": 70
        }
      ]
    },
    {
      "metadata": {
        "id": "Gr4P5JvAOTfq",
        "colab_type": "text"
      },
      "cell_type": "markdown",
      "source": [
        "# EC3\n",
        "## Visualize the learned weights."
      ]
    },
    {
      "metadata": {
        "id": "tjgyEEfPPXvt",
        "colab_type": "code",
        "colab": {}
      },
      "cell_type": "code",
      "source": [
        "for layer in model1.layers: \n",
        "  weights = layer.get_weights()"
      ],
      "execution_count": 0,
      "outputs": []
    },
    {
      "metadata": {
        "id": "vT17m6_MQEm2",
        "colab_type": "code",
        "colab": {}
      },
      "cell_type": "code",
      "source": [
        "layer1 = model1.layers[0].get_weights()\n",
        "layer2 = model1.layers[1].get_weights()"
      ],
      "execution_count": 0,
      "outputs": []
    },
    {
      "metadata": {
        "id": "FLOEqpXnY3N6",
        "colab_type": "code",
        "colab": {}
      },
      "cell_type": "code",
      "source": [
        "W = layer2[0]"
      ],
      "execution_count": 0,
      "outputs": []
    },
    {
      "metadata": {
        "id": "VUxcfxQ5_KpZ",
        "colab_type": "code",
        "colab": {}
      },
      "cell_type": "code",
      "source": [
        "im = W[:,1].reshape(28,28)"
      ],
      "execution_count": 0,
      "outputs": []
    },
    {
      "metadata": {
        "id": "96zduD2c_wnC",
        "colab_type": "code",
        "outputId": "41fd88b1-2b36-42c9-be0b-1b44bb90528d",
        "colab": {
          "base_uri": "https://localhost:8080/",
          "height": 465
        }
      },
      "cell_type": "code",
      "source": [
        "class_names = ['T-shirt', 'Trouser', 'Pullover', 'Dress', 'Coat', \n",
        "               'Sandal', 'Shirt', 'Sneaker', 'Bag', 'Ankle boot']\n",
        "fig, ax = plt.subplots(2,5,figsize=(15,8))\n",
        "for i in range(2):\n",
        "  for j in range(5):\n",
        "    im = W[:,i*5 + j].reshape(28,28)\n",
        "    ax[i][j].imshow(im, cmap = plt.get_cmap('seismic'))\n",
        "    ax[i][j].set_xlabel(class_names[i*5 + j])"
      ],
      "execution_count": 0,
      "outputs": [
        {
          "output_type": "display_data",
          "data": {
            "image/png": "[encoded data removed]",
            "text/plain": [
              "<Figure size 1080x576 with 10 Axes>"
            ]
          },
          "metadata": {
            "tags": []
          }
        }
      ]
    },
    {
      "metadata": {
        "id": "EHODdhhcSLuy",
        "colab_type": "code",
        "colab": {}
      },
      "cell_type": "code",
      "source": [
        ""
      ],
      "execution_count": 0,
      "outputs": []
    }
  ]
}