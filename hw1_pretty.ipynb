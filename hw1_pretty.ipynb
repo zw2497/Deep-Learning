{
  "nbformat": 4,
  "nbformat_minor": 0,
  "metadata": {
    "colab": {
      "name": "hw1_pretty.ipynb",
      "version": "0.3.2",
      "provenance": [],
      "include_colab_link": true
    },
    "kernelspec": {
      "name": "python3",
      "display_name": "Python 3"
    },
    "accelerator": "GPU"
  },
  "cells": [
    {
      "cell_type": "markdown",
      "metadata": {
        "id": "view-in-github",
        "colab_type": "text"
      },
      "source": [
        "<a href=\"https://colab.research.google.com/github/zw2497/Deep-Learning/blob/master/hw1_pretty.ipynb\" target=\"_parent\"><img src=\"https://colab.research.google.com/assets/colab-badge.svg\" alt=\"Open In Colab\"/></a>"
      ]
    },
    {
      "metadata": {
        "id": "2U0yGQbaCuhE",
        "colab_type": "text"
      },
      "cell_type": "markdown",
      "source": [
        "## Import framework"
      ]
    },
    {
      "metadata": {
        "id": "eHJCf-HXNl4P",
        "colab_type": "code",
        "outputId": "eda30656-889a-4430-b1fc-fdbf29e25323",
        "colab": {
          "base_uri": "https://localhost:8080/",
          "height": 34
        }
      },
      "cell_type": "code",
      "source": [
        "import tensorflow as tf\n",
        "from tensorflow import keras\n",
        "\n",
        "import numpy as np\n",
        "import matplotlib.pyplot as plt\n",
        "\n",
        "print(tf.__version__)"
      ],
      "execution_count": 0,
      "outputs": [
        {
          "output_type": "stream",
          "text": [
            "2.0.0-dev20190202\n"
          ],
          "name": "stdout"
        }
      ]
    },
    {
      "metadata": {
        "id": "r8J6ChscP1Vo",
        "colab_type": "text"
      },
      "cell_type": "markdown",
      "source": [
        "## Load Data"
      ]
    },
    {
      "metadata": {
        "id": "8lj7BNNYN0qk",
        "colab_type": "code",
        "outputId": "50f35855-56cd-4f74-b862-f3d3336ae06f",
        "colab": {
          "base_uri": "https://localhost:8080/",
          "height": 153
        }
      },
      "cell_type": "code",
      "source": [
        "fashion_mnist = keras.datasets.fashion_mnist\n",
        "(train_images, train_labels), (test_images, test_labels) = fashion_mnist.load_data()"
      ],
      "execution_count": 0,
      "outputs": [
        {
          "output_type": "stream",
          "text": [
            "Downloading data from https://storage.googleapis.com/tensorflow/tf-keras-datasets/train-labels-idx1-ubyte.gz\n",
            "32768/29515 [=================================] - 0s 0us/step\n",
            "Downloading data from https://storage.googleapis.com/tensorflow/tf-keras-datasets/train-images-idx3-ubyte.gz\n",
            "26427392/26421880 [==============================] - 0s 0us/step\n",
            "Downloading data from https://storage.googleapis.com/tensorflow/tf-keras-datasets/t10k-labels-idx1-ubyte.gz\n",
            "8192/5148 [===============================================] - 0s 0us/step\n",
            "Downloading data from https://storage.googleapis.com/tensorflow/tf-keras-datasets/t10k-images-idx3-ubyte.gz\n",
            "4423680/4422102 [==============================] - 0s 0us/step\n"
          ],
          "name": "stdout"
        }
      ]
    },
    {
      "metadata": {
        "id": "4bD_X_B2DM5-",
        "colab_type": "text"
      },
      "cell_type": "markdown",
      "source": [
        "## Normalize"
      ]
    },
    {
      "metadata": {
        "id": "jGOtPpHXDVom",
        "colab_type": "code",
        "colab": {}
      },
      "cell_type": "code",
      "source": [
        "train_images = train_images / 255.0\n",
        "test_images = test_images / 255.0"
      ],
      "execution_count": 0,
      "outputs": []
    },
    {
      "metadata": {
        "id": "AitUhC-ZOBkZ",
        "colab_type": "text"
      },
      "cell_type": "markdown",
      "source": [
        "# Part 1:\n",
        "### 1. Implement and train a linear model to classify this dataset. Evaluate it by producing a plot that compares the training and validation accuracy. Include this plot with your submission."
      ]
    },
    {
      "metadata": {
        "id": "ThJi8MYmp3gf",
        "colab_type": "text"
      },
      "cell_type": "markdown",
      "source": [
        "#### 1.1 Build linear model"
      ]
    },
    {
      "metadata": {
        "id": "nWhjUpdJF2Hm",
        "colab_type": "code",
        "colab": {}
      },
      "cell_type": "code",
      "source": [
        "model = keras.Sequential([\n",
        "    keras.layers.Flatten(input_shape=(28, 28)),\n",
        "    keras.layers.Dense(10, activation=tf.nn.softmax)\n",
        "])"
      ],
      "execution_count": 0,
      "outputs": []
    },
    {
      "metadata": {
        "id": "rJCj4k3vF_P2",
        "colab_type": "code",
        "colab": {}
      },
      "cell_type": "code",
      "source": [
        "model.compile(optimizer='adam', loss='sparse_categorical_crossentropy', metrics=['accuracy'])"
      ],
      "execution_count": 0,
      "outputs": []
    },
    {
      "metadata": {
        "id": "tH8pWAUXJ_wO",
        "colab_type": "code",
        "outputId": "8992dc59-cda7-481a-99dd-723d51172182",
        "colab": {
          "base_uri": "https://localhost:8080/",
          "height": 204
        }
      },
      "cell_type": "code",
      "source": [
        "history = model.fit(train_images, train_labels,validation_data=(test_images, test_labels), epochs=5)"
      ],
      "execution_count": 0,
      "outputs": [
        {
          "output_type": "stream",
          "text": [
            "Train on 60000 samples, validate on 10000 samples\n",
            "Epoch 1/5\n",
            "60000/60000 [==============================] - 3s 51us/step - loss: 0.5971 - acc: 0.7980 - val_loss: 0.5230 - val_acc: 0.8179\n",
            "Epoch 2/5\n",
            "60000/60000 [==============================] - 2s 41us/step - loss: 0.4628 - acc: 0.8412 - val_loss: 0.4784 - val_acc: 0.8344\n",
            "Epoch 3/5\n",
            "60000/60000 [==============================] - 2s 41us/step - loss: 0.4365 - acc: 0.8503 - val_loss: 0.4630 - val_acc: 0.8387\n",
            "Epoch 4/5\n",
            "60000/60000 [==============================] - 2s 42us/step - loss: 0.4224 - acc: 0.8547 - val_loss: 0.4589 - val_acc: 0.8404\n",
            "Epoch 5/5\n",
            "60000/60000 [==============================] - 2s 41us/step - loss: 0.4149 - acc: 0.8557 - val_loss: 0.4540 - val_acc: 0.8414\n"
          ],
          "name": "stdout"
        }
      ]
    },
    {
      "metadata": {
        "id": "u6O629yfP7s2",
        "colab_type": "text"
      },
      "cell_type": "markdown",
      "source": [
        "#### 1.2 compares the training and validation accuracy"
      ]
    },
    {
      "metadata": {
        "id": "N-buuIx6PEjq",
        "colab_type": "code",
        "colab": {}
      },
      "cell_type": "code",
      "source": [
        "acc, loss, val_acc, val_loss = history.history['acc'],history.history['loss'],history.history['val_acc'],history.history['val_loss']"
      ],
      "execution_count": 0,
      "outputs": []
    },
    {
      "metadata": {
        "id": "E6h_yNbtPx2g",
        "colab_type": "code",
        "outputId": "4a7649bd-14ee-49d7-9b7a-030e9bca22ee",
        "colab": {
          "base_uri": "https://localhost:8080/",
          "height": 365
        }
      },
      "cell_type": "code",
      "source": [
        "fig, ax = plt.subplots(1, 2, figsize=(10, 5))\n",
        "epochs = range(len(acc))\n",
        "\n",
        "ax[0].plot(epochs, acc)\n",
        "ax[0].plot(epochs, val_acc)\n",
        "ax[0].set_xlabel('Epoch')\n",
        "ax[0].set_ylabel('Accuracy')\n",
        "\n",
        "ax[1].plot(epochs, loss)\n",
        "ax[1].plot(epochs, val_loss)\n",
        "ax[1].set_xlabel('Epoch')\n",
        "ax[1].set_ylabel('Loss')\n",
        "plt.tight_layout()"
      ],
      "execution_count": 0,
      "outputs": [
        {
          "output_type": "display_data",
          "data": {
            "image/png": "[encoded data removed]",
            "text/plain": [
              "<Figure size 720x360 with 2 Axes>"
            ]
          },
          "metadata": {
            "tags": []
          }
        }
      ]
    },
    {
      "metadata": {
        "id": "wwA0e8k3TW84",
        "colab_type": "text"
      },
      "cell_type": "markdown",
      "source": [
        "## 2. Implement and train a deep neural network to classify this dataset. No need to produce plots for this part, just try to get the validation accuracy as high as you can."
      ]
    },
    {
      "metadata": {
        "id": "mposkDQ0RdU7",
        "colab_type": "code",
        "colab": {}
      },
      "cell_type": "code",
      "source": [
        "model1 = keras.Sequential([\n",
        "    keras.layers.Flatten(input_shape=(28, 28)),\n",
        "    keras.layers.Dense(128, activation=tf.nn.relu),\n",
        "    keras.layers.Dense(10, activation=tf.nn.softmax)\n",
        "])\n",
        "model1.compile(optimizer='adam', loss='sparse_categorical_crossentropy', metrics=['accuracy'])"
      ],
      "execution_count": 0,
      "outputs": []
    },
    {
      "metadata": {
        "id": "GjeKOT7MTqxN",
        "colab_type": "code",
        "outputId": "cda87568-c9e0-4e19-b6ab-88a0fe31438a",
        "colab": {
          "base_uri": "https://localhost:8080/",
          "height": 374
        }
      },
      "cell_type": "code",
      "source": [
        "history1 = model1.fit(train_images, train_labels, validation_data=(test_images, test_labels), epochs=10)"
      ],
      "execution_count": 0,
      "outputs": [
        {
          "output_type": "stream",
          "text": [
            "Train on 60000 samples, validate on 10000 samples\n",
            "Epoch 1/10\n",
            "60000/60000 [==============================] - 7s 120us/step - loss: 0.4969 - acc: 0.8250 - val_loss: 0.4098 - val_acc: 0.8525\n",
            "Epoch 2/10\n",
            "60000/60000 [==============================] - 7s 118us/step - loss: 0.3718 - acc: 0.8679 - val_loss: 0.3912 - val_acc: 0.8554\n",
            "Epoch 3/10\n",
            "60000/60000 [==============================] - 7s 120us/step - loss: 0.3343 - acc: 0.8781 - val_loss: 0.3712 - val_acc: 0.8631\n",
            "Epoch 4/10\n",
            "60000/60000 [==============================] - 7s 119us/step - loss: 0.3104 - acc: 0.8861 - val_loss: 0.3710 - val_acc: 0.8655\n",
            "Epoch 5/10\n",
            "60000/60000 [==============================] - 7s 119us/step - loss: 0.2927 - acc: 0.8922 - val_loss: 0.3803 - val_acc: 0.8624\n",
            "Epoch 6/10\n",
            "60000/60000 [==============================] - 7s 116us/step - loss: 0.2801 - acc: 0.8963 - val_loss: 0.3373 - val_acc: 0.8787\n",
            "Epoch 7/10\n",
            "60000/60000 [==============================] - 7s 118us/step - loss: 0.2668 - acc: 0.9001 - val_loss: 0.3657 - val_acc: 0.8700\n",
            "Epoch 8/10\n",
            "60000/60000 [==============================] - 7s 121us/step - loss: 0.2566 - acc: 0.9042 - val_loss: 0.3433 - val_acc: 0.8792\n",
            "Epoch 9/10\n",
            "60000/60000 [==============================] - 7s 120us/step - loss: 0.2473 - acc: 0.9084 - val_loss: 0.3310 - val_acc: 0.8833\n",
            "Epoch 10/10\n",
            "60000/60000 [==============================] - 7s 115us/step - loss: 0.2400 - acc: 0.9110 - val_loss: 0.3309 - val_acc: 0.8856\n"
          ],
          "name": "stdout"
        }
      ]
    },
    {
      "metadata": {
        "id": "znJCQrK6Twzl",
        "colab_type": "code",
        "outputId": "f2842d14-572f-4b2f-a190-b7caffd468cc",
        "colab": {
          "base_uri": "https://localhost:8080/",
          "height": 51
        }
      },
      "cell_type": "code",
      "source": [
        "test_loss, test_acc = model.evaluate(test_images, test_labels)\n",
        "print('Test accuracy:', test_acc)"
      ],
      "execution_count": 0,
      "outputs": [
        {
          "output_type": "stream",
          "text": [
            "10000/10000 [==============================] - 0s 20us/step\n",
            "Test accuracy: 0.8414\n"
          ],
          "name": "stdout"
        }
      ]
    },
    {
      "metadata": {
        "id": "TOTapOzlUwe5",
        "colab_type": "text"
      },
      "cell_type": "markdown",
      "source": [
        "## 3. Produce a diagram that visualizes your linear and deep models using ​plot_model​. You can find a complete example of how to use plot model ​here​. Include these plots with your submission.\n"
      ]
    },
    {
      "metadata": {
        "id": "GCV5NGhTUnsf",
        "colab_type": "code",
        "outputId": "cc726cbe-1bf5-4e78-b4b5-eead8fd2a5e7",
        "colab": {
          "base_uri": "https://localhost:8080/",
          "height": 34
        }
      },
      "cell_type": "code",
      "source": [
        "from keras.utils import plot_model\n",
        "import matplotlib.image as mpimg\n",
        "plot_model(model, show_shapes=True, to_file='linear.png')\n",
        "plot_model(model1, show_shapes=True, to_file='deep.png')"
      ],
      "execution_count": 0,
      "outputs": [
        {
          "output_type": "stream",
          "text": [
            "Using TensorFlow backend.\n"
          ],
          "name": "stderr"
        }
      ]
    },
    {
      "metadata": {
        "id": "1z0LaPQNVkw0",
        "colab_type": "code",
        "outputId": "d8fd90c5-340a-4128-c51e-51afad59a26d",
        "colab": {
          "base_uri": "https://localhost:8080/",
          "height": 370
        }
      },
      "cell_type": "code",
      "source": [
        "fig, ax = plt.subplots(1, 2, figsize=(12, 6))\n",
        "_ = ax[0].imshow(mpimg.imread('linear.png'))\n",
        "_ = ax[1].imshow(mpimg.imread('deep.png'))"
      ],
      "execution_count": 0,
      "outputs": [
        {
          "output_type": "display_data",
          "data": {
            "image/png": "[encoded data removed]",
            "text/plain": [
              "<Figure size 864x432 with 2 Axes>"
            ]
          },
          "metadata": {
            "tags": []
          }
        }
      ]
    },
    {
      "metadata": {
        "id": "ySLwdyfygdoB",
        "colab_type": "text"
      },
      "cell_type": "markdown",
      "source": [
        "## 4. Produce a confusion matrix for one of your models, showing which classes it classifies well, and which it has trouble with. You can reuse the sklearn ​code​ for confusion matrices (it’s great). You’ll just need to use your model to make predictions on the each image in the test set, and compare them with the correct answer. Include the confusion matrix in your submission."
      ]
    },
    {
      "metadata": {
        "id": "Ptvt1Wn4e27l",
        "colab_type": "code",
        "colab": {}
      },
      "cell_type": "code",
      "source": [
        "import itertools\n",
        "from sklearn.metrics import confusion_matrix"
      ],
      "execution_count": 0,
      "outputs": []
    },
    {
      "metadata": {
        "id": "LDII_l1MlkJp",
        "colab_type": "code",
        "outputId": "11b5601a-911c-48bf-f59d-3c77db2e73be",
        "colab": {
          "base_uri": "https://localhost:8080/",
          "height": 34
        }
      },
      "cell_type": "code",
      "source": [
        "predictions_array = model1.predict(test_images)\n",
        "predictions = np.argmax(predictions_array, 1)\n",
        "print(predictions.shape)"
      ],
      "execution_count": 0,
      "outputs": [
        {
          "output_type": "stream",
          "text": [
            "(10000,)\n"
          ],
          "name": "stdout"
        }
      ]
    },
    {
      "metadata": {
        "id": "lRMrC7f0ly_D",
        "colab_type": "code",
        "colab": {}
      },
      "cell_type": "code",
      "source": [
        "def plot_confusion_matrix(cm, classes,\n",
        "                          normalize=False,\n",
        "                          title='Confusion matrix',\n",
        "                          cmap=plt.cm.Blues):\n",
        "    \"\"\"\n",
        "    This function prints and plots the confusion matrix.\n",
        "    Normalization can be applied by setting `normalize=True`.\n",
        "    \"\"\"\n",
        "    if normalize:\n",
        "        cm = cm.astype('float') / cm.sum(axis=1)[:, np.newaxis]\n",
        "        print(\"Normalized confusion matrix\")\n",
        "    else:\n",
        "        print('Confusion matrix, without normalization')\n",
        "\n",
        "    print(cm)\n",
        "\n",
        "    plt.imshow(cm, interpolation='nearest', cmap=cmap)\n",
        "    plt.title(title)\n",
        "    plt.colorbar()\n",
        "    tick_marks = np.arange(len(classes))\n",
        "    plt.xticks(tick_marks, classes, rotation=45)\n",
        "    plt.yticks(tick_marks, classes)\n",
        "\n",
        "    fmt = '.2f' if normalize else 'd'\n",
        "    thresh = cm.max() / 2.\n",
        "    for i, j in itertools.product(range(cm.shape[0]), range(cm.shape[1])):\n",
        "        plt.text(j, i, format(cm[i, j], fmt),\n",
        "                 horizontalalignment=\"center\",\n",
        "                 color=\"white\" if cm[i, j] > thresh else \"black\")\n",
        "\n",
        "    plt.ylabel('True label')\n",
        "    plt.xlabel('Predicted label')\n",
        "    plt.tight_layout()"
      ],
      "execution_count": 0,
      "outputs": []
    },
    {
      "metadata": {
        "id": "96sgt1XRl6ex",
        "colab_type": "code",
        "outputId": "eec7e2ca-00c0-4236-f8eb-57f1c6a32de9",
        "colab": {
          "base_uri": "https://localhost:8080/",
          "height": 675
        }
      },
      "cell_type": "code",
      "source": [
        "class_names = ['T-shirt', 'Trouser', 'Pullover', 'Dress', 'Coat', \n",
        "               'Sandal', 'Shirt', 'Sneaker', 'Bag', 'Ankle boot']\n",
        "\n",
        "# Compute confusion matrix\n",
        "cnf_matrix = confusion_matrix(test_labels, predictions)\n",
        "np.set_printoptions(precision=2)\n",
        "\n",
        "# Plot normalized confusion matrix\n",
        "plt.figure(figsize=(7, 7))\n",
        "plot_confusion_matrix(cnf_matrix, classes=class_names, normalize=True,\n",
        "                      title='Normalized confusion matrix')"
      ],
      "execution_count": 0,
      "outputs": [
        {
          "output_type": "stream",
          "text": [
            "Normalized confusion matrix\n",
            "[[0.86 0.   0.01 0.01 0.   0.   0.11 0.   0.   0.  ]\n",
            " [0.01 0.96 0.   0.02 0.   0.   0.   0.   0.   0.  ]\n",
            " [0.03 0.   0.84 0.01 0.08 0.   0.05 0.   0.   0.  ]\n",
            " [0.04 0.   0.01 0.87 0.04 0.   0.03 0.   0.   0.  ]\n",
            " [0.   0.   0.11 0.02 0.81 0.   0.05 0.   0.   0.  ]\n",
            " [0.   0.   0.   0.   0.   0.98 0.   0.01 0.   0.01]\n",
            " [0.14 0.   0.1  0.02 0.07 0.   0.67 0.   0.01 0.  ]\n",
            " [0.   0.   0.   0.   0.   0.03 0.   0.95 0.   0.02]\n",
            " [0.01 0.   0.   0.   0.   0.   0.01 0.   0.96 0.  ]\n",
            " [0.   0.   0.   0.   0.   0.01 0.   0.04 0.   0.95]]\n"
          ],
          "name": "stdout"
        },
        {
          "output_type": "display_data",
          "data": {
            "image/png": "[encoded data removed]",
            "text/plain": [
              "<Figure size 504x504 with 2 Axes>"
            ]
          },
          "metadata": {
            "tags": []
          }
        }
      ]
    },
    {
      "metadata": {
        "id": "bbRCAYuEo7VU",
        "colab_type": "text"
      },
      "cell_type": "markdown",
      "source": [
        "## 4.1 Result:\n",
        "* **Shirt** is not predicted well. \n",
        "* **Trouser, Bag** is good."
      ]
    },
    {
      "metadata": {
        "id": "BG397NIzmiQU",
        "colab_type": "text"
      },
      "cell_type": "markdown",
      "source": [
        "# Part 2 ​(50 points)​: ​\n",
        "Implement and evaluate two models to classify the Fashion MNIST dataset using the Keras Subclassing API.\n",
        "## 5. Implement and train a linear model to classify this dataset. Evaluate it by producing a plot that compares the training and validation accuracy. Include this plot with your submission."
      ]
    },
    {
      "metadata": {
        "id": "snz8yrUqmhl6",
        "colab_type": "code",
        "outputId": "98b16f7b-94c6-44cd-ce47-cba61a3677ba",
        "colab": {
          "base_uri": "https://localhost:8080/",
          "height": 360
        }
      },
      "cell_type": "code",
      "source": [
        "!pip install tf-nightly-2.0-preview"
      ],
      "execution_count": 0,
      "outputs": [
        {
          "output_type": "stream",
          "text": [
            "Requirement already satisfied: tf-nightly-2.0-preview in /usr/local/lib/python3.6/dist-packages (2.0.0.dev20190202)\n",
            "Requirement already satisfied: keras-applications>=1.0.6 in /usr/local/lib/python3.6/dist-packages (from tf-nightly-2.0-preview) (1.0.7)\n",
            "Requirement already satisfied: numpy<2.0,>=1.14.5 in /usr/local/lib/python3.6/dist-packages (from tf-nightly-2.0-preview) (1.14.6)\n",
            "Requirement already satisfied: tensorflow-estimator-2.0-preview in /usr/local/lib/python3.6/dist-packages (from tf-nightly-2.0-preview) (1.13.0.dev2019012800)\n",
            "Requirement already satisfied: grpcio>=1.8.6 in /usr/local/lib/python3.6/dist-packages (from tf-nightly-2.0-preview) (1.15.0)\n",
            "Requirement already satisfied: google-pasta>=0.1.1 in /usr/local/lib/python3.6/dist-packages (from tf-nightly-2.0-preview) (0.1.1)\n",
            "Requirement already satisfied: tb-nightly<1.14.0a0,>=1.13.0a0 in /usr/local/lib/python3.6/dist-packages (from tf-nightly-2.0-preview) (1.13.0a20190202)\n",
            "Requirement already satisfied: six>=1.10.0 in /usr/local/lib/python3.6/dist-packages (from tf-nightly-2.0-preview) (1.11.0)\n",
            "Requirement already satisfied: wheel>=0.26 in /usr/local/lib/python3.6/dist-packages (from tf-nightly-2.0-preview) (0.32.3)\n",
            "Requirement already satisfied: absl-py>=0.1.6 in /usr/local/lib/python3.6/dist-packages (from tf-nightly-2.0-preview) (0.7.0)\n",
            "Requirement already satisfied: astor>=0.6.0 in /usr/local/lib/python3.6/dist-packages (from tf-nightly-2.0-preview) (0.7.1)\n",
            "Requirement already satisfied: gast>=0.2.0 in /usr/local/lib/python3.6/dist-packages (from tf-nightly-2.0-preview) (0.2.2)\n",
            "Requirement already satisfied: keras-preprocessing>=1.0.5 in /usr/local/lib/python3.6/dist-packages (from tf-nightly-2.0-preview) (1.0.8)\n",
            "Requirement already satisfied: protobuf>=3.6.1 in /usr/local/lib/python3.6/dist-packages (from tf-nightly-2.0-preview) (3.6.1)\n",
            "Requirement already satisfied: termcolor>=1.1.0 in /usr/local/lib/python3.6/dist-packages (from tf-nightly-2.0-preview) (1.1.0)\n",
            "Requirement already satisfied: h5py in /usr/local/lib/python3.6/dist-packages (from keras-applications>=1.0.6->tf-nightly-2.0-preview) (2.8.0)\n",
            "Requirement already satisfied: werkzeug>=0.11.15 in /usr/local/lib/python3.6/dist-packages (from tb-nightly<1.14.0a0,>=1.13.0a0->tf-nightly-2.0-preview) (0.14.1)\n",
            "Requirement already satisfied: markdown>=2.6.8 in /usr/local/lib/python3.6/dist-packages (from tb-nightly<1.14.0a0,>=1.13.0a0->tf-nightly-2.0-preview) (3.0.1)\n",
            "Requirement already satisfied: setuptools in /usr/local/lib/python3.6/dist-packages (from protobuf>=3.6.1->tf-nightly-2.0-preview) (40.7.1)\n"
          ],
          "name": "stdout"
        }
      ]
    },
    {
      "metadata": {
        "id": "-a75FSM2l-Ku",
        "colab_type": "code",
        "outputId": "da792e00-9930-4c36-e504-edd67c29b1b3",
        "colab": {
          "base_uri": "https://localhost:8080/",
          "height": 34
        }
      },
      "cell_type": "code",
      "source": [
        "import tensorflow as tf\n",
        "print(\"You have version\", tf.__version__)\n",
        "assert tf.__version__ >= \"2.0\"\n",
        "\n",
        "import numpy as np\n",
        "from tensorflow import keras\n",
        "from tensorflow.keras import Model"
      ],
      "execution_count": 0,
      "outputs": [
        {
          "output_type": "stream",
          "text": [
            "You have version 2.0.0-dev20190202\n"
          ],
          "name": "stdout"
        }
      ]
    },
    {
      "metadata": {
        "id": "yrVVUIPOodcG",
        "colab_type": "code",
        "colab": {}
      },
      "cell_type": "code",
      "source": [
        "epochs = 10\n",
        "batch_size = 128"
      ],
      "execution_count": 0,
      "outputs": []
    },
    {
      "metadata": {
        "id": "6emwn2vso1hN",
        "colab_type": "code",
        "colab": {}
      },
      "cell_type": "code",
      "source": [
        "mnist = tf.keras.datasets.fashion_mnist\n",
        "\n",
        "# Dataset will be cached locally after it's downloaded\n",
        "(x_train, y_train), (x_test, y_test) = mnist.load_data()\n",
        "\n",
        "# Normalize pixel values to [0, 1]\n",
        "x_train, x_test = x_train / 255.0, x_test / 255.0\n",
        "\n",
        "# These types are required for the operation we use later to compute loss.\n",
        "y_train = y_train.astype(np.int32)\n",
        "y_test = y_test.astype(np.int32)"
      ],
      "execution_count": 0,
      "outputs": []
    },
    {
      "metadata": {
        "id": "_LSudD4Kq5Fk",
        "colab_type": "code",
        "colab": {}
      },
      "cell_type": "code",
      "source": [
        "shuffle_buffer = len(x_train)\n",
        "\n",
        "train_dataset = tf.data.Dataset.from_tensor_slices(\n",
        "                                    (x_train, y_train)\n",
        "                                  ).shuffle(shuffle_buffer)\n",
        "train_dataset = train_dataset.batch(batch_size)"
      ],
      "execution_count": 0,
      "outputs": []
    },
    {
      "metadata": {
        "id": "srhqzVL4sbIx",
        "colab_type": "code",
        "colab": {}
      },
      "cell_type": "code",
      "source": [
        "def loss(logits, labels):\n",
        "  return tf.reduce_mean(\n",
        "      tf.nn.sparse_softmax_cross_entropy_with_logits(\n",
        "          logits=logits, labels=labels))"
      ],
      "execution_count": 0,
      "outputs": []
    },
    {
      "metadata": {
        "id": "o-MrxxrnscSR",
        "colab_type": "code",
        "colab": {}
      },
      "cell_type": "code",
      "source": [
        "def train_on_batch(model, images, labels):\n",
        "  with tf.GradientTape() as tape:\n",
        "    logits = model(images)\n",
        "    loss_value = loss(logits, labels)\n",
        "  grads = tape.gradient(loss_value, model.variables)\n",
        "  optimizer.apply_gradients(zip(grads, model.variables))\n",
        "  return loss_value"
      ],
      "execution_count": 0,
      "outputs": []
    },
    {
      "metadata": {
        "id": "wYDOVmdP10j8",
        "colab_type": "code",
        "colab": {}
      },
      "cell_type": "code",
      "source": [
        "def calc_accuracy(logits, labels):\n",
        "  predictions = tf.argmax(logits, axis=1)\n",
        "  batch_size = int(logits.shape[0])\n",
        "  acc = tf.reduce_sum(\n",
        "      tf.cast(tf.equal(predictions, labels), dtype=tf.float32)) / batch_size\n",
        "  return acc * 100"
      ],
      "execution_count": 0,
      "outputs": []
    },
    {
      "metadata": {
        "id": "EK2VNqRnOclr",
        "colab_type": "text"
      },
      "cell_type": "markdown",
      "source": [
        "## 1.1 Implement and train a linear model to classify this dataset. Evaluate it by producing a plot that compares the training and validation accuracy. Include this plot with your submission."
      ]
    },
    {
      "metadata": {
        "id": "D4vWWkCytlyg",
        "colab_type": "code",
        "colab": {}
      },
      "cell_type": "code",
      "source": [
        "class MyModel(Model):\n",
        "  def __init__(self):\n",
        "    super(MyModel, self).__init__()\n",
        "    self.flatten = keras.layers.Flatten()   \n",
        "    self.d1 = keras.layers.Dense(10)\n",
        "    self.a1 = tf.nn.softmax\n",
        "\n",
        "  def call(self, x):\n",
        "    # Unroll the images into arrays\n",
        "    x = self.flatten(x)\n",
        "    x = self.d1(x)\n",
        "    x = self.a1(x)\n",
        "    return x"
      ],
      "execution_count": 0,
      "outputs": []
    },
    {
      "metadata": {
        "id": "XefZBOOY2fBr",
        "colab_type": "code",
        "outputId": "7ec6ec79-946d-4b4f-ad57-47f0b3c9e8a7",
        "colab": {
          "base_uri": "https://localhost:8080/",
          "height": 1479
        }
      },
      "cell_type": "code",
      "source": [
        "model = MyModel()\n",
        "acc = []\n",
        "val_acc = []\n",
        "\n",
        "optimizer = tf.keras.optimizers.Adam()\n",
        "\n",
        "for epoch in range(epochs):\n",
        "  print('Epoch', epoch + 1)\n",
        "  for (batch, (images, labels)) in enumerate(train_dataset):\n",
        "    loss_value = train_on_batch(model, images, labels)\n",
        "    step = optimizer.iterations.numpy() \n",
        "    if step % 100 == 0:\n",
        "      print('Step %d\\tLoss: %.4f' % (step, loss_value))\n",
        "  \n",
        "  acc.append(calc_accuracy(model(x_train), y_train))\n",
        "  val_acc.append(calc_accuracy(model(x_test), y_test))\n",
        "  \n",
        "  print('Train accuracy %.2f' % calc_accuracy(model(x_train), y_train))\n",
        "  print('Test accuracy %.2f\\n' % calc_accuracy(model(x_test), y_test))"
      ],
      "execution_count": 0,
      "outputs": [
        {
          "output_type": "stream",
          "text": [
            "Epoch 1\n",
            "Step 100\tLoss: 1.8444\n",
            "Step 200\tLoss: 1.7927\n",
            "Step 300\tLoss: 1.7054\n",
            "Step 400\tLoss: 1.7005\n",
            "Train accuracy 80.32\n",
            "Test accuracy 79.16\n",
            "\n",
            "Epoch 2\n",
            "Step 500\tLoss: 1.7028\n",
            "Step 600\tLoss: 1.7675\n",
            "Step 700\tLoss: 1.6363\n",
            "Step 800\tLoss: 1.6407\n",
            "Step 900\tLoss: 1.6324\n",
            "Train accuracy 82.64\n",
            "Test accuracy 81.40\n",
            "\n",
            "Epoch 3\n",
            "Step 1000\tLoss: 1.6575\n",
            "Step 1100\tLoss: 1.6361\n",
            "Step 1200\tLoss: 1.6754\n",
            "Step 1300\tLoss: 1.6340\n",
            "Step 1400\tLoss: 1.5974\n",
            "Train accuracy 83.57\n",
            "Test accuracy 82.48\n",
            "\n",
            "Epoch 4\n",
            "Step 1500\tLoss: 1.6040\n",
            "Step 1600\tLoss: 1.5591\n",
            "Step 1700\tLoss: 1.6610\n",
            "Step 1800\tLoss: 1.6044\n",
            "Train accuracy 84.26\n",
            "Test accuracy 83.09\n",
            "\n",
            "Epoch 5\n",
            "Step 1900\tLoss: 1.6494\n",
            "Step 2000\tLoss: 1.6396\n",
            "Step 2100\tLoss: 1.6319\n",
            "Step 2200\tLoss: 1.6128\n",
            "Step 2300\tLoss: 1.6506\n",
            "Train accuracy 84.69\n",
            "Test accuracy 83.41\n",
            "\n",
            "Epoch 6\n",
            "Step 2400\tLoss: 1.6198\n",
            "Step 2500\tLoss: 1.6310\n",
            "Step 2600\tLoss: 1.6703\n",
            "Step 2700\tLoss: 1.6672\n",
            "Step 2800\tLoss: 1.6233\n",
            "Train accuracy 85.01\n",
            "Test accuracy 83.65\n",
            "\n",
            "Epoch 7\n",
            "Step 2900\tLoss: 1.6278\n",
            "Step 3000\tLoss: 1.6760\n",
            "Step 3100\tLoss: 1.6105\n",
            "Step 3200\tLoss: 1.6037\n",
            "Train accuracy 85.30\n",
            "Test accuracy 83.78\n",
            "\n",
            "Epoch 8\n",
            "Step 3300\tLoss: 1.6436\n",
            "Step 3400\tLoss: 1.6037\n",
            "Step 3500\tLoss: 1.5915\n",
            "Step 3600\tLoss: 1.6133\n",
            "Step 3700\tLoss: 1.6602\n",
            "Train accuracy 85.60\n",
            "Test accuracy 83.92\n",
            "\n",
            "Epoch 9\n",
            "Step 3800\tLoss: 1.6283\n",
            "Step 3900\tLoss: 1.5825\n",
            "Step 4000\tLoss: 1.6427\n",
            "Step 4100\tLoss: 1.6291\n",
            "Step 4200\tLoss: 1.6348\n",
            "Train accuracy 85.77\n",
            "Test accuracy 84.07\n",
            "\n",
            "Epoch 10\n",
            "Step 4300\tLoss: 1.6479\n",
            "Step 4400\tLoss: 1.6231\n",
            "Step 4500\tLoss: 1.6127\n",
            "Step 4600\tLoss: 1.6407\n",
            "Train accuracy 85.91\n",
            "Test accuracy 84.09\n",
            "\n"
          ],
          "name": "stdout"
        }
      ]
    },
    {
      "metadata": {
        "id": "XlVN1emQ95kD",
        "colab_type": "code",
        "outputId": "0d3e773b-1fc9-419b-cf67-5ca9c66c1c89",
        "colab": {
          "base_uri": "https://localhost:8080/",
          "height": 393
        }
      },
      "cell_type": "code",
      "source": [
        "plt.figure()\n",
        "plt.title('Training and validation loss')\n",
        "epochs = range(len(acc))\n",
        "plt.plot(epochs, acc, label='Train')\n",
        "plt.plot(epochs, val_acc, label='Validation')\n",
        "plt.xlabel('Epoch')\n",
        "plt.ylabel('Accuracy')\n",
        "plt.legend()"
      ],
      "execution_count": 0,
      "outputs": [
        {
          "output_type": "execute_result",
          "data": {
            "text/plain": [
              "<matplotlib.legend.Legend at 0x7f6e85e7e320>"
            ]
          },
          "metadata": {
            "tags": []
          },
          "execution_count": 33
        },
        {
          "output_type": "display_data",
          "data": {
            "image/png": "[encoded data removed]",
            "text/plain": [
              "<Figure size 576x396 with 1 Axes>"
            ]
          },
          "metadata": {
            "tags": []
          }
        }
      ]
    },
    {
      "metadata": {
        "id": "oBILAVotOkI0",
        "colab_type": "text"
      },
      "cell_type": "markdown",
      "source": [
        "## 2. Implement and train a deep model to classify this dataset. No need to produce plots for this part, just try to get the validation accuracy as high as you can."
      ]
    },
    {
      "metadata": {
        "id": "JyA6d88SIscX",
        "colab_type": "code",
        "colab": {}
      },
      "cell_type": "code",
      "source": [
        "class MyModel_deep(Model):\n",
        "  def __init__(self):\n",
        "    super(MyModel_deep, self).__init__()\n",
        "    self.flatten = keras.layers.Flatten()\n",
        "    self.d1 = keras.layers.Dense(128, activation=tf.nn.relu)\n",
        "    self.d2 = keras.layers.Dense(64, activation=tf.nn.relu)\n",
        "    self.d3 = keras.layers.Dense(10, activation=tf.nn.softmax)\n",
        "  def call(self, x):\n",
        "    x = self.flatten(x)\n",
        "    x = self.d1(x)\n",
        "    x = self.d2(x)\n",
        "    x = self.d3(x)\n",
        "    return x"
      ],
      "execution_count": 0,
      "outputs": []
    },
    {
      "metadata": {
        "id": "6gXmNfoMRtBl",
        "colab_type": "code",
        "outputId": "09c9ea43-37d7-4a16-dfa5-9eebffa971f8",
        "colab": {
          "base_uri": "https://localhost:8080/",
          "height": 748
        }
      },
      "cell_type": "code",
      "source": [
        "model_deep = MyModel_deep()\n",
        "\n",
        "optimizer = tf.keras.optimizers.Adam()\n",
        "\n",
        "for epoch in range(5):\n",
        "  print('Epoch', epoch + 1)\n",
        "  for (batch, (images, labels)) in enumerate(train_dataset):\n",
        "    loss_value = train_on_batch(model_deep, images, labels)\n",
        "    step = optimizer.iterations.numpy() \n",
        "    if step % 100 == 0:\n",
        "      print('Step %d\\tLoss: %.4f' % (step, loss_value))\n",
        "  print('Train accuracy %.2f' % calc_accuracy(model_deep(x_train), y_train))\n",
        "  print('Test accuracy %.2f\\n' % calc_accuracy(model_deep(x_test), y_test))"
      ],
      "execution_count": 0,
      "outputs": [
        {
          "output_type": "stream",
          "text": [
            "Epoch 1\n",
            "Step 100\tLoss: 1.7618\n",
            "Step 200\tLoss: 1.7080\n",
            "Step 300\tLoss: 1.7189\n",
            "Step 400\tLoss: 1.6758\n",
            "Train accuracy 80.70\n",
            "Test accuracy 79.82\n",
            "\n",
            "Epoch 2\n",
            "Step 500\tLoss: 1.6737\n",
            "Step 600\tLoss: 1.6403\n",
            "Step 700\tLoss: 1.5824\n",
            "Step 800\tLoss: 1.5892\n",
            "Step 900\tLoss: 1.6505\n",
            "Train accuracy 85.05\n",
            "Test accuracy 83.90\n",
            "\n",
            "Epoch 3\n",
            "Step 1000\tLoss: 1.6212\n",
            "Step 1100\tLoss: 1.6138\n",
            "Step 1200\tLoss: 1.5924\n",
            "Step 1300\tLoss: 1.6135\n",
            "Step 1400\tLoss: 1.5966\n",
            "Train accuracy 85.64\n",
            "Test accuracy 84.38\n",
            "\n",
            "Epoch 4\n",
            "Step 1500\tLoss: 1.6049\n",
            "Step 1600\tLoss: 1.6102\n",
            "Step 1700\tLoss: 1.5931\n",
            "Step 1800\tLoss: 1.5802\n",
            "Train accuracy 86.31\n",
            "Test accuracy 84.77\n",
            "\n",
            "Epoch 5\n",
            "Step 1900\tLoss: 1.6048\n",
            "Step 2000\tLoss: 1.6180\n",
            "Step 2100\tLoss: 1.5763\n",
            "Step 2200\tLoss: 1.5616\n",
            "Step 2300\tLoss: 1.5980\n",
            "Train accuracy 87.33\n",
            "Test accuracy 85.45\n",
            "\n"
          ],
          "name": "stdout"
        }
      ]
    },
    {
      "metadata": {
        "id": "f2h1zy1gqgWB",
        "colab_type": "code",
        "outputId": "bf6fa032-97d1-48e8-aa9e-c96889fc046c",
        "colab": {
          "base_uri": "https://localhost:8080/",
          "height": 34
        }
      },
      "cell_type": "code",
      "source": [
        "predictions = model_deep.predict(x_test)\n",
        "print(calc_accuracy(predictions, y_test))"
      ],
      "execution_count": 0,
      "outputs": [
        {
          "output_type": "stream",
          "text": [
            "tf.Tensor(85.45, shape=(), dtype=float32)\n"
          ],
          "name": "stdout"
        }
      ]
    },
    {
      "metadata": {
        "id": "DiROOYsbZzo9",
        "colab_type": "text"
      },
      "cell_type": "markdown",
      "source": [
        "# EC2\n",
        "## Provide your own implementation of softmax and cross entropy loss."
      ]
    },
    {
      "metadata": {
        "id": "FLOEqpXnY3N6",
        "colab_type": "code",
        "colab": {}
      },
      "cell_type": "code",
      "source": [
        "def my_softmax(x):\n",
        "  "
      ],
      "execution_count": 0,
      "outputs": []
    },
    {
      "metadata": {
        "id": "qWboIJ7oJok-",
        "colab_type": "code",
        "colab": {}
      },
      "cell_type": "code",
      "source": [
        ""
      ],
      "execution_count": 0,
      "outputs": []
    }
  ]
}